{
  "nbformat": 4,
  "nbformat_minor": 0,
  "metadata": {
    "colab": {
      "name": "TP1.ipynb",
      "provenance": [],
      "collapsed_sections": [],
      "include_colab_link": true
    },
    "kernelspec": {
      "name": "python3",
      "display_name": "Python 3"
    }
  },
  "cells": [
    {
      "cell_type": "markdown",
      "metadata": {
        "id": "view-in-github",
        "colab_type": "text"
      },
      "source": [
        "<a href=\"https://colab.research.google.com/github/grettynazario/TP1-orgaDatos/blob/master/TP1.ipynb\" target=\"_parent\"><img src=\"https://colab.research.google.com/assets/colab-badge.svg\" alt=\"Open In Colab\"/></a>"
      ]
    },
    {
      "cell_type": "markdown",
      "metadata": {
        "id": "pvNeywnRDqO6",
        "colab_type": "text"
      },
      "source": [
        "# 75.06/95.58 Organización de Datos\n",
        "# Primer Cuatrimestre de 2020\n",
        "# Trabajo Práctico 1: Enunciado\n"
      ]
    },
    {
      "cell_type": "markdown",
      "metadata": {
        "id": "V93xhGtJJki2",
        "colab_type": "text"
      },
      "source": [
        "El trabajo práctico 1 de la materia se basa en el análisis de los tweets del set de datos de la competencia: https://www.kaggle.com/c/nlp-getting-started.  \n",
        "\n",
        "* `id` - identificador unico para cada  tweet\n",
        "\n",
        "* `text` - el texto del tweet\n",
        "\n",
        "* `location` - ubicación desde donde fue enviado (podría no estar)\n",
        "\n",
        "* `keyword` - un keyword para el tweet  (podría faltar)\n",
        "\n",
        "* `target` - en train.csv, indica si se trata de un desastre real  (1) o no (0)\n",
        "\n",
        "\n",
        "\n"
      ]
    },
    {
      "cell_type": "markdown",
      "metadata": {
        "id": "6_H5bXYMKKRD",
        "colab_type": "text"
      },
      "source": [
        "El objetivo del primer TP es realizar un análisis exploratorio del set de datos. Queremos ver qué cosas podemos descubrir sobre los datos que puedan resultar interesantes. Estas cosas pueden estar relacionadas al objetivo del TP2 (predecir si un cierto tweet es real o no) o no, ambas son de interés."
      ]
    },
    {
      "cell_type": "markdown",
      "metadata": {
        "id": "xrBYVjlHKPqg",
        "colab_type": "text"
      },
      "source": [
        "Los requisitos de la primera entrega son los siguientes:\n",
        "\n",
        "* El análisis debe estar hecho en Python Pandas o R.\n",
        "\n",
        "* El análisis debe entregarse en formato pdf vía gradescope. En el informe no va código.\n",
        "\n",
        "* Informar el link a un repositorio Github en donde pueda bajarse el código completo para generar el análisis.\n"
      ]
    },
    {
      "cell_type": "markdown",
      "metadata": {
        "id": "GC0EYA0aKrJQ",
        "colab_type": "text"
      },
      "source": [
        "La evaluación del TP se realizará en base al siguiente criterio:\n",
        "\n",
        "* Originalidad del análisis exploratorio. \n",
        "\n",
        "* Calidad del reporte. ¿Está bien escrito? ¿Es claro y preciso? \n",
        "\n",
        "* Calidad del análisis exploratorio: qué tipo de preguntas se hacen y de qué forma se responden, ¿es la respuesta clara y concisa con respecto a la pregunta formulada? \n",
        "\n",
        "* Calidad de las visualizaciones presentadas.\n",
        " * ¿Tienen todos los ejes su rótulo?\n",
        " * ¿Tiene cada visualización un título?\n",
        " * ¿Es entendible la visualización sin tener que leer la explicación?\n",
        " * ¿El tipo de plot elegido es adecuado para lo que se quiere visualizar?\n",
        " * ¿Es una visualización interesante?\n",
        " * ¿El uso del color es adecuado?\n",
        " * ¿Hay un exceso o falta de elementos visuales en la visualización elegida?\n",
        " * ¿La visualización es consistente con los datos?\n",
        " * Conclusiones presentadas.\n",
        " * ¿Presenta el grupo un listado de \"insights\" aprendidos sobre los datos en base al análisis realizado? ¿Es interesante? \n"
      ]
    },
    {
      "cell_type": "markdown",
      "metadata": {
        "id": "Pm6FEtM9LhKX",
        "colab_type": "text"
      },
      "source": [
        "# Resolución de Trabajo Práctico"
      ]
    },
    {
      "cell_type": "markdown",
      "metadata": {
        "id": "feiOmooav_PV",
        "colab_type": "text"
      },
      "source": [
        "## Instalación"
      ]
    },
    {
      "cell_type": "code",
      "metadata": {
        "id": "wSrG5eGbL1mo",
        "colab_type": "code",
        "outputId": "e1dc1d66-4e59-415b-8171-72fbcc36ed00",
        "colab": {
          "base_uri": "https://localhost:8080/",
          "height": 853
        }
      },
      "source": [
        "!pip install pyspark\n",
        "!pip install -U -q PyDrive\n",
        "!apt install openjdk-8-jdk-headless -qq\n",
        "import os\n",
        "os.environ[\"JAVA_HOME\"] = \"/usr/lib/jvm/java-8-openjdk-amd64\""
      ],
      "execution_count": 2,
      "outputs": [
        {
          "output_type": "stream",
          "text": [
            "Collecting pyspark\n",
            "\u001b[?25l  Downloading https://files.pythonhosted.org/packages/9a/5a/271c416c1c2185b6cb0151b29a91fff6fcaed80173c8584ff6d20e46b465/pyspark-2.4.5.tar.gz (217.8MB)\n",
            "\u001b[K     |████████████████████████████████| 217.8MB 60kB/s \n",
            "\u001b[?25hCollecting py4j==0.10.7\n",
            "\u001b[?25l  Downloading https://files.pythonhosted.org/packages/e3/53/c737818eb9a7dc32a7cd4f1396e787bd94200c3997c72c1dbe028587bd76/py4j-0.10.7-py2.py3-none-any.whl (197kB)\n",
            "\u001b[K     |████████████████████████████████| 204kB 41.2MB/s \n",
            "\u001b[?25hBuilding wheels for collected packages: pyspark\n",
            "  Building wheel for pyspark (setup.py) ... \u001b[?25l\u001b[?25hdone\n",
            "  Created wheel for pyspark: filename=pyspark-2.4.5-py2.py3-none-any.whl size=218257927 sha256=f66e4a90c68f1f9c71df54eeec37229e048471382d6983c04698814a09435c88\n",
            "  Stored in directory: /root/.cache/pip/wheels/bf/db/04/61d66a5939364e756eb1c1be4ec5bdce6e04047fc7929a3c3c\n",
            "Successfully built pyspark\n",
            "Installing collected packages: py4j, pyspark\n",
            "Successfully installed py4j-0.10.7 pyspark-2.4.5\n",
            "The following additional packages will be installed:\n",
            "  openjdk-8-jre-headless\n",
            "Suggested packages:\n",
            "  openjdk-8-demo openjdk-8-source libnss-mdns fonts-dejavu-extra\n",
            "  fonts-ipafont-gothic fonts-ipafont-mincho fonts-wqy-microhei\n",
            "  fonts-wqy-zenhei fonts-indic\n",
            "The following NEW packages will be installed:\n",
            "  openjdk-8-jdk-headless openjdk-8-jre-headless\n",
            "0 upgraded, 2 newly installed, 0 to remove and 31 not upgraded.\n",
            "Need to get 35.8 MB of archives.\n",
            "After this operation, 140 MB of additional disk space will be used.\n",
            "Selecting previously unselected package openjdk-8-jre-headless:amd64.\n",
            "(Reading database ... 144433 files and directories currently installed.)\n",
            "Preparing to unpack .../openjdk-8-jre-headless_8u252-b09-1~18.04_amd64.deb ...\n",
            "Unpacking openjdk-8-jre-headless:amd64 (8u252-b09-1~18.04) ...\n",
            "Selecting previously unselected package openjdk-8-jdk-headless:amd64.\n",
            "Preparing to unpack .../openjdk-8-jdk-headless_8u252-b09-1~18.04_amd64.deb ...\n",
            "Unpacking openjdk-8-jdk-headless:amd64 (8u252-b09-1~18.04) ...\n",
            "Setting up openjdk-8-jre-headless:amd64 (8u252-b09-1~18.04) ...\n",
            "update-alternatives: using /usr/lib/jvm/java-8-openjdk-amd64/jre/bin/orbd to provide /usr/bin/orbd (orbd) in auto mode\n",
            "update-alternatives: using /usr/lib/jvm/java-8-openjdk-amd64/jre/bin/servertool to provide /usr/bin/servertool (servertool) in auto mode\n",
            "update-alternatives: using /usr/lib/jvm/java-8-openjdk-amd64/jre/bin/tnameserv to provide /usr/bin/tnameserv (tnameserv) in auto mode\n",
            "Setting up openjdk-8-jdk-headless:amd64 (8u252-b09-1~18.04) ...\n",
            "update-alternatives: using /usr/lib/jvm/java-8-openjdk-amd64/bin/idlj to provide /usr/bin/idlj (idlj) in auto mode\n",
            "update-alternatives: using /usr/lib/jvm/java-8-openjdk-amd64/bin/wsimport to provide /usr/bin/wsimport (wsimport) in auto mode\n",
            "update-alternatives: using /usr/lib/jvm/java-8-openjdk-amd64/bin/jsadebugd to provide /usr/bin/jsadebugd (jsadebugd) in auto mode\n",
            "update-alternatives: using /usr/lib/jvm/java-8-openjdk-amd64/bin/native2ascii to provide /usr/bin/native2ascii (native2ascii) in auto mode\n",
            "update-alternatives: using /usr/lib/jvm/java-8-openjdk-amd64/bin/javah to provide /usr/bin/javah (javah) in auto mode\n",
            "update-alternatives: using /usr/lib/jvm/java-8-openjdk-amd64/bin/clhsdb to provide /usr/bin/clhsdb (clhsdb) in auto mode\n",
            "update-alternatives: using /usr/lib/jvm/java-8-openjdk-amd64/bin/extcheck to provide /usr/bin/extcheck (extcheck) in auto mode\n",
            "update-alternatives: using /usr/lib/jvm/java-8-openjdk-amd64/bin/hsdb to provide /usr/bin/hsdb (hsdb) in auto mode\n",
            "update-alternatives: using /usr/lib/jvm/java-8-openjdk-amd64/bin/schemagen to provide /usr/bin/schemagen (schemagen) in auto mode\n",
            "update-alternatives: using /usr/lib/jvm/java-8-openjdk-amd64/bin/xjc to provide /usr/bin/xjc (xjc) in auto mode\n",
            "update-alternatives: using /usr/lib/jvm/java-8-openjdk-amd64/bin/jhat to provide /usr/bin/jhat (jhat) in auto mode\n",
            "update-alternatives: using /usr/lib/jvm/java-8-openjdk-amd64/bin/wsgen to provide /usr/bin/wsgen (wsgen) in auto mode\n"
          ],
          "name": "stdout"
        }
      ]
    },
    {
      "cell_type": "markdown",
      "metadata": {
        "id": "eLPejHavwNcQ",
        "colab_type": "text"
      },
      "source": [
        "## Comienzo de Análisis"
      ]
    },
    {
      "cell_type": "code",
      "metadata": {
        "id": "f8ahBBIaL4lA",
        "colab_type": "code",
        "outputId": "7be976cd-d462-4b7f-cdf1-8be7c7f9901f",
        "colab": {
          "base_uri": "https://localhost:8080/",
          "height": 71
        }
      },
      "source": [
        "import pandas as pd\n",
        "import numpy as np\n",
        "import seaborn as sns\n",
        "import matplotlib.pyplot as plt\n",
        "%matplotlib inline"
      ],
      "execution_count": 3,
      "outputs": [
        {
          "output_type": "stream",
          "text": [
            "/usr/local/lib/python3.6/dist-packages/statsmodels/tools/_testing.py:19: FutureWarning: pandas.util.testing is deprecated. Use the functions in the public API at pandas.testing instead.\n",
            "  import pandas.util.testing as tm\n"
          ],
          "name": "stderr"
        }
      ]
    },
    {
      "cell_type": "code",
      "metadata": {
        "id": "fnHMAA7jMisI",
        "colab_type": "code",
        "outputId": "17253cbd-44b3-4257-a729-96e58e13a96c",
        "colab": {
          "base_uri": "https://localhost:8080/",
          "height": 419
        }
      },
      "source": [
        "# Load the Data and take a quick look.\n",
        "url = 'https://raw.githubusercontent.com/grettynazario/TP1-orgaDatos/master/train.csv'\n",
        "tweets = pd.read_csv(url, encoding='latin-1')\n",
        "\n",
        "#Completo los NaN correspondientes a las columnas de keyword y location \n",
        "values = {'keyword':'No keyword' , 'location':'No location'}\n",
        "tweets.fillna(value=values, inplace=True)\n"
      ],
      "execution_count": 23,
      "outputs": [
        {
          "output_type": "execute_result",
          "data": {
            "text/html": [
              "<div>\n",
              "<style scoped>\n",
              "    .dataframe tbody tr th:only-of-type {\n",
              "        vertical-align: middle;\n",
              "    }\n",
              "\n",
              "    .dataframe tbody tr th {\n",
              "        vertical-align: top;\n",
              "    }\n",
              "\n",
              "    .dataframe thead th {\n",
              "        text-align: right;\n",
              "    }\n",
              "</style>\n",
              "<table border=\"1\" class=\"dataframe\">\n",
              "  <thead>\n",
              "    <tr style=\"text-align: right;\">\n",
              "      <th></th>\n",
              "      <th>id</th>\n",
              "      <th>keyword</th>\n",
              "      <th>location</th>\n",
              "      <th>text</th>\n",
              "      <th>target</th>\n",
              "    </tr>\n",
              "  </thead>\n",
              "  <tbody>\n",
              "    <tr>\n",
              "      <th>504</th>\n",
              "      <td>729</td>\n",
              "      <td>attacked</td>\n",
              "      <td>Groningen, Netherlands, Europe</td>\n",
              "      <td>Christian Attacked by Muslims at the Temple Mo...</td>\n",
              "      <td>1</td>\n",
              "    </tr>\n",
              "    <tr>\n",
              "      <th>505</th>\n",
              "      <td>730</td>\n",
              "      <td>attacked</td>\n",
              "      <td>Livingston, IL  U.S.A.</td>\n",
              "      <td>Christian Attacked by Muslims at the Temple Mo...</td>\n",
              "      <td>1</td>\n",
              "    </tr>\n",
              "    <tr>\n",
              "      <th>506</th>\n",
              "      <td>731</td>\n",
              "      <td>attacked</td>\n",
              "      <td>Arundel</td>\n",
              "      <td>Christian Attacked by Muslims at the Temple Mo...</td>\n",
              "      <td>1</td>\n",
              "    </tr>\n",
              "    <tr>\n",
              "      <th>507</th>\n",
              "      <td>732</td>\n",
              "      <td>attacked</td>\n",
              "      <td>No location</td>\n",
              "      <td>I attacked Robot-lvl 19 and I've earned a tota...</td>\n",
              "      <td>0</td>\n",
              "    </tr>\n",
              "    <tr>\n",
              "      <th>508</th>\n",
              "      <td>734</td>\n",
              "      <td>attacked</td>\n",
              "      <td>America</td>\n",
              "      <td>Christian Attacked by Muslims at the Temple Mo...</td>\n",
              "      <td>1</td>\n",
              "    </tr>\n",
              "    <tr>\n",
              "      <th>...</th>\n",
              "      <td>...</td>\n",
              "      <td>...</td>\n",
              "      <td>...</td>\n",
              "      <td>...</td>\n",
              "      <td>...</td>\n",
              "    </tr>\n",
              "    <tr>\n",
              "      <th>7608</th>\n",
              "      <td>10869</td>\n",
              "      <td>No keyword</td>\n",
              "      <td>No location</td>\n",
              "      <td>Two giant cranes holding a bridge collapse int...</td>\n",
              "      <td>1</td>\n",
              "    </tr>\n",
              "    <tr>\n",
              "      <th>7609</th>\n",
              "      <td>10870</td>\n",
              "      <td>No keyword</td>\n",
              "      <td>No location</td>\n",
              "      <td>@aria_ahrary @TheTawniest The out of control w...</td>\n",
              "      <td>1</td>\n",
              "    </tr>\n",
              "    <tr>\n",
              "      <th>7610</th>\n",
              "      <td>10871</td>\n",
              "      <td>No keyword</td>\n",
              "      <td>No location</td>\n",
              "      <td>M1.94 [01:04 UTC]?5km S of Volcano Hawaii. htt...</td>\n",
              "      <td>1</td>\n",
              "    </tr>\n",
              "    <tr>\n",
              "      <th>7611</th>\n",
              "      <td>10872</td>\n",
              "      <td>No keyword</td>\n",
              "      <td>No location</td>\n",
              "      <td>Police investigating after an e-bike collided ...</td>\n",
              "      <td>1</td>\n",
              "    </tr>\n",
              "    <tr>\n",
              "      <th>7612</th>\n",
              "      <td>10873</td>\n",
              "      <td>No keyword</td>\n",
              "      <td>No location</td>\n",
              "      <td>The Latest: More Homes Razed by Northern Calif...</td>\n",
              "      <td>1</td>\n",
              "    </tr>\n",
              "  </tbody>\n",
              "</table>\n",
              "<p>7109 rows × 5 columns</p>\n",
              "</div>"
            ],
            "text/plain": [
              "         id  ... target\n",
              "504     729  ...      1\n",
              "505     730  ...      1\n",
              "506     731  ...      1\n",
              "507     732  ...      0\n",
              "508     734  ...      1\n",
              "...     ...  ...    ...\n",
              "7608  10869  ...      1\n",
              "7609  10870  ...      1\n",
              "7610  10871  ...      1\n",
              "7611  10872  ...      1\n",
              "7612  10873  ...      1\n",
              "\n",
              "[7109 rows x 5 columns]"
            ]
          },
          "metadata": {
            "tags": []
          },
          "execution_count": 23
        }
      ]
    },
    {
      "cell_type": "markdown",
      "metadata": {
        "id": "1SxylkoNYQlA",
        "colab_type": "text"
      },
      "source": [
        "### *Análisis Keyword vs. Target*\n",
        "\n",
        "Ahora, vamos a comparar la cantidad de veces que aparecen las keywords en el dataset en general y las keywords que más ocurrencias tienen y además son verdaderas según lo dice la columna target."
      ]
    },
    {
      "cell_type": "code",
      "metadata": {
        "id": "1uuoFIeKY6Tr",
        "colab_type": "code",
        "outputId": "d3f0f7b3-3dc9-41da-80a6-c0b3f1336bfa",
        "colab": {
          "base_uri": "https://localhost:8080/",
          "height": 689
        }
      },
      "source": [
        "accident_count  = tweets['keyword'].value_counts()\n",
        "accident_count = accident_count[:10,]\n",
        "plt.figure(figsize=(10,5))\n",
        "sns.barplot(accident_count.values, accident_count.index, alpha=0.8)\n",
        "plt.title('Top 10 keywords in tweets')\n",
        "plt.xlabel('Number of Occurrences', fontsize=12)\n",
        "plt.ylabel('keyword', fontsize=12)\n",
        "plt.show()\n",
        "\n",
        "#Me quedo sólo con los tweets marcados como verdaderos\n",
        "real_tweets = tweets[tweets.target == 1]\n",
        "real_tweets.head()\n",
        "\n",
        "accident_count_real  = real_tweets['keyword'].value_counts()\n",
        "accident_count_real = accident_count_real[:10,]\n",
        "plt.figure(figsize=(10,5))\n",
        "sns.barplot(accident_count_real.values, accident_count_real.index, alpha=0.8)\n",
        "plt.title('Top 10 keywords in real tweets')\n",
        "plt.xlabel('Number of Occurrences', fontsize=12)\n",
        "plt.ylabel('keyword', fontsize=12)\n",
        "plt.show()"
      ],
      "execution_count": 5,
      "outputs": [
        {
          "output_type": "display_data",
          "data": {
            "image/png": "[encoded data removed]",
            "text/plain": [
              "<Figure size 720x360 with 1 Axes>"
            ]
          },
          "metadata": {
            "tags": [],
            "needs_background": "light"
          }
        },
        {
          "output_type": "display_data",
          "data": {
            "image/png": "[encoded data removed]",
            "text/plain": [
              "<Figure size 720x360 with 1 Axes>"
            ]
          },
          "metadata": {
            "tags": [],
            "needs_background": "light"
          }
        }
      ]
    },
    {
      "cell_type": "markdown",
      "metadata": {
        "id": "2wZ4QYdjtiBn",
        "colab_type": "text"
      },
      "source": [
        "#### ¿Los tweets más largos son verdaderos?\n"
      ]
    },
    {
      "cell_type": "code",
      "metadata": {
        "id": "napgAsO2u7mN",
        "colab_type": "code",
        "outputId": "0b4c9d17-77ce-4824-d81e-cc99950ccf5f",
        "colab": {
          "base_uri": "https://localhost:8080/",
          "height": 282
        }
      },
      "source": [
        "#Agrego columnas que tengan los valores del largo de los tweets y para cada uno, si es verdadero o no:\n",
        "\n",
        "tweets['tweet_length'] = tweets['text'].str.len()\n",
        "tweets['veracity'] = (tweets.target == 1)\n",
        "\n",
        "myPalette = sns.set_palette(sns.color_palette(['darkmagenta', 'yellow']))\n",
        "bplot = sns.boxplot(x='veracity', y='tweet_length', data=tweets, palette=myPalette)\n",
        "\n",
        "bplot.set_xlabel(\"Veracidad\", fontsize=13)\n",
        "bplot.set_ylabel(\"Cantidad de caracteres\", fontsize=13)\n",
        "bplot.tick_params(labelsize=10)"
      ],
      "execution_count": 15,
      "outputs": [
        {
          "output_type": "display_data",
          "data": {
            "image/png": "[encoded data removed]",
            "text/plain": [
              "<Figure size 432x288 with 1 Axes>"
            ]
          },
          "metadata": {
            "tags": [],
            "needs_background": "light"
          }
        }
      ]
    },
    {
      "cell_type": "code",
      "metadata": {
        "id": "Ks26O8DiUaN1",
        "colab_type": "code",
        "outputId": "b4dc1916-ad04-4d9c-ba75-309da7b108b5",
        "colab": {
          "base_uri": "https://localhost:8080/",
          "height": 102
        }
      },
      "source": [
        "tweets['keyword'].describe()"
      ],
      "execution_count": 7,
      "outputs": [
        {
          "output_type": "execute_result",
          "data": {
            "text/plain": [
              "count           7552\n",
              "unique           221\n",
              "top       fatalities\n",
              "freq              45\n",
              "Name: keyword, dtype: object"
            ]
          },
          "metadata": {
            "tags": []
          },
          "execution_count": 7
        }
      ]
    },
    {
      "cell_type": "code",
      "metadata": {
        "id": "oTRmsDMVYpsU",
        "colab_type": "code",
        "outputId": "9c5934ae-b8ab-4c01-ee18-71ea42f2ee6f",
        "colab": {
          "base_uri": "https://localhost:8080/",
          "height": 170
        }
      },
      "source": [
        "(tweets['keyword'].value_counts()).describe()"
      ],
      "execution_count": 8,
      "outputs": [
        {
          "output_type": "execute_result",
          "data": {
            "text/plain": [
              "count    221.000000\n",
              "mean      34.171946\n",
              "std        4.786091\n",
              "min        9.000000\n",
              "25%       33.000000\n",
              "50%       35.000000\n",
              "75%       37.000000\n",
              "max       45.000000\n",
              "Name: keyword, dtype: float64"
            ]
          },
          "metadata": {
            "tags": []
          },
          "execution_count": 8
        }
      ]
    },
    {
      "cell_type": "code",
      "metadata": {
        "id": "alnJD3iyZQW4",
        "colab_type": "code",
        "outputId": "c84f11e8-1d42-4401-ae94-21939115fcc5",
        "colab": {
          "base_uri": "https://localhost:8080/",
          "height": 481
        }
      },
      "source": [
        "grouped = tweets.groupby(['keyword']).agg({'target':['count', 'min', 'mean', 'max']})\n",
        "grouped"
      ],
      "execution_count": 9,
      "outputs": [
        {
          "output_type": "execute_result",
          "data": {
            "text/html": [
              "<div>\n",
              "<style scoped>\n",
              "    .dataframe tbody tr th:only-of-type {\n",
              "        vertical-align: middle;\n",
              "    }\n",
              "\n",
              "    .dataframe tbody tr th {\n",
              "        vertical-align: top;\n",
              "    }\n",
              "\n",
              "    .dataframe thead tr th {\n",
              "        text-align: left;\n",
              "    }\n",
              "\n",
              "    .dataframe thead tr:last-of-type th {\n",
              "        text-align: right;\n",
              "    }\n",
              "</style>\n",
              "<table border=\"1\" class=\"dataframe\">\n",
              "  <thead>\n",
              "    <tr>\n",
              "      <th></th>\n",
              "      <th colspan=\"4\" halign=\"left\">target</th>\n",
              "    </tr>\n",
              "    <tr>\n",
              "      <th></th>\n",
              "      <th>count</th>\n",
              "      <th>min</th>\n",
              "      <th>mean</th>\n",
              "      <th>max</th>\n",
              "    </tr>\n",
              "    <tr>\n",
              "      <th>keyword</th>\n",
              "      <th></th>\n",
              "      <th></th>\n",
              "      <th></th>\n",
              "      <th></th>\n",
              "    </tr>\n",
              "  </thead>\n",
              "  <tbody>\n",
              "    <tr>\n",
              "      <th>ablaze</th>\n",
              "      <td>36</td>\n",
              "      <td>0</td>\n",
              "      <td>0.361111</td>\n",
              "      <td>1</td>\n",
              "    </tr>\n",
              "    <tr>\n",
              "      <th>accident</th>\n",
              "      <td>35</td>\n",
              "      <td>0</td>\n",
              "      <td>0.685714</td>\n",
              "      <td>1</td>\n",
              "    </tr>\n",
              "    <tr>\n",
              "      <th>aftershock</th>\n",
              "      <td>34</td>\n",
              "      <td>0</td>\n",
              "      <td>0.000000</td>\n",
              "      <td>0</td>\n",
              "    </tr>\n",
              "    <tr>\n",
              "      <th>airplane%20accident</th>\n",
              "      <td>35</td>\n",
              "      <td>0</td>\n",
              "      <td>0.857143</td>\n",
              "      <td>1</td>\n",
              "    </tr>\n",
              "    <tr>\n",
              "      <th>ambulance</th>\n",
              "      <td>38</td>\n",
              "      <td>0</td>\n",
              "      <td>0.526316</td>\n",
              "      <td>1</td>\n",
              "    </tr>\n",
              "    <tr>\n",
              "      <th>...</th>\n",
              "      <td>...</td>\n",
              "      <td>...</td>\n",
              "      <td>...</td>\n",
              "      <td>...</td>\n",
              "    </tr>\n",
              "    <tr>\n",
              "      <th>wounded</th>\n",
              "      <td>37</td>\n",
              "      <td>0</td>\n",
              "      <td>0.702703</td>\n",
              "      <td>1</td>\n",
              "    </tr>\n",
              "    <tr>\n",
              "      <th>wounds</th>\n",
              "      <td>33</td>\n",
              "      <td>0</td>\n",
              "      <td>0.303030</td>\n",
              "      <td>1</td>\n",
              "    </tr>\n",
              "    <tr>\n",
              "      <th>wreck</th>\n",
              "      <td>37</td>\n",
              "      <td>0</td>\n",
              "      <td>0.189189</td>\n",
              "      <td>1</td>\n",
              "    </tr>\n",
              "    <tr>\n",
              "      <th>wreckage</th>\n",
              "      <td>39</td>\n",
              "      <td>1</td>\n",
              "      <td>1.000000</td>\n",
              "      <td>1</td>\n",
              "    </tr>\n",
              "    <tr>\n",
              "      <th>wrecked</th>\n",
              "      <td>39</td>\n",
              "      <td>0</td>\n",
              "      <td>0.076923</td>\n",
              "      <td>1</td>\n",
              "    </tr>\n",
              "  </tbody>\n",
              "</table>\n",
              "<p>221 rows × 4 columns</p>\n",
              "</div>"
            ],
            "text/plain": [
              "                    target                  \n",
              "                     count min      mean max\n",
              "keyword                                     \n",
              "ablaze                  36   0  0.361111   1\n",
              "accident                35   0  0.685714   1\n",
              "aftershock              34   0  0.000000   0\n",
              "airplane%20accident     35   0  0.857143   1\n",
              "ambulance               38   0  0.526316   1\n",
              "...                    ...  ..       ...  ..\n",
              "wounded                 37   0  0.702703   1\n",
              "wounds                  33   0  0.303030   1\n",
              "wreck                   37   0  0.189189   1\n",
              "wreckage                39   1  1.000000   1\n",
              "wrecked                 39   0  0.076923   1\n",
              "\n",
              "[221 rows x 4 columns]"
            ]
          },
          "metadata": {
            "tags": []
          },
          "execution_count": 9
        }
      ]
    },
    {
      "cell_type": "code",
      "metadata": {
        "id": "OThZkH-4X8f8",
        "colab_type": "code",
        "outputId": "5f675156-91be-4c64-968b-195aa5eb3dc0",
        "colab": {
          "base_uri": "https://localhost:8080/",
          "height": 481
        }
      },
      "source": [
        "grouped.loc[grouped[('target','mean')]>0.5,:].sort_values(('target','count'),ascending=False)"
      ],
      "execution_count": 10,
      "outputs": [
        {
          "output_type": "execute_result",
          "data": {
            "text/html": [
              "<div>\n",
              "<style scoped>\n",
              "    .dataframe tbody tr th:only-of-type {\n",
              "        vertical-align: middle;\n",
              "    }\n",
              "\n",
              "    .dataframe tbody tr th {\n",
              "        vertical-align: top;\n",
              "    }\n",
              "\n",
              "    .dataframe thead tr th {\n",
              "        text-align: left;\n",
              "    }\n",
              "\n",
              "    .dataframe thead tr:last-of-type th {\n",
              "        text-align: right;\n",
              "    }\n",
              "</style>\n",
              "<table border=\"1\" class=\"dataframe\">\n",
              "  <thead>\n",
              "    <tr>\n",
              "      <th></th>\n",
              "      <th colspan=\"4\" halign=\"left\">target</th>\n",
              "    </tr>\n",
              "    <tr>\n",
              "      <th></th>\n",
              "      <th>count</th>\n",
              "      <th>min</th>\n",
              "      <th>mean</th>\n",
              "      <th>max</th>\n",
              "    </tr>\n",
              "    <tr>\n",
              "      <th>keyword</th>\n",
              "      <th></th>\n",
              "      <th></th>\n",
              "      <th></th>\n",
              "      <th></th>\n",
              "    </tr>\n",
              "  </thead>\n",
              "  <tbody>\n",
              "    <tr>\n",
              "      <th>fatalities</th>\n",
              "      <td>45</td>\n",
              "      <td>0</td>\n",
              "      <td>0.577778</td>\n",
              "      <td>1</td>\n",
              "    </tr>\n",
              "    <tr>\n",
              "      <th>evacuate</th>\n",
              "      <td>40</td>\n",
              "      <td>0</td>\n",
              "      <td>0.625000</td>\n",
              "      <td>1</td>\n",
              "    </tr>\n",
              "    <tr>\n",
              "      <th>outbreak</th>\n",
              "      <td>40</td>\n",
              "      <td>0</td>\n",
              "      <td>0.975000</td>\n",
              "      <td>1</td>\n",
              "    </tr>\n",
              "    <tr>\n",
              "      <th>collided</th>\n",
              "      <td>40</td>\n",
              "      <td>0</td>\n",
              "      <td>0.575000</td>\n",
              "      <td>1</td>\n",
              "    </tr>\n",
              "    <tr>\n",
              "      <th>wreckage</th>\n",
              "      <td>39</td>\n",
              "      <td>1</td>\n",
              "      <td>1.000000</td>\n",
              "      <td>1</td>\n",
              "    </tr>\n",
              "    <tr>\n",
              "      <th>...</th>\n",
              "      <td>...</td>\n",
              "      <td>...</td>\n",
              "      <td>...</td>\n",
              "      <td>...</td>\n",
              "    </tr>\n",
              "    <tr>\n",
              "      <th>bombing</th>\n",
              "      <td>29</td>\n",
              "      <td>0</td>\n",
              "      <td>0.931034</td>\n",
              "      <td>1</td>\n",
              "    </tr>\n",
              "    <tr>\n",
              "      <th>volcano</th>\n",
              "      <td>27</td>\n",
              "      <td>0</td>\n",
              "      <td>0.666667</td>\n",
              "      <td>1</td>\n",
              "    </tr>\n",
              "    <tr>\n",
              "      <th>bush%20fires</th>\n",
              "      <td>25</td>\n",
              "      <td>0</td>\n",
              "      <td>0.720000</td>\n",
              "      <td>1</td>\n",
              "    </tr>\n",
              "    <tr>\n",
              "      <th>forest%20fire</th>\n",
              "      <td>19</td>\n",
              "      <td>0</td>\n",
              "      <td>0.789474</td>\n",
              "      <td>1</td>\n",
              "    </tr>\n",
              "    <tr>\n",
              "      <th>radiation%20emergency</th>\n",
              "      <td>9</td>\n",
              "      <td>0</td>\n",
              "      <td>0.555556</td>\n",
              "      <td>1</td>\n",
              "    </tr>\n",
              "  </tbody>\n",
              "</table>\n",
              "<p>86 rows × 4 columns</p>\n",
              "</div>"
            ],
            "text/plain": [
              "                      target                  \n",
              "                       count min      mean max\n",
              "keyword                                       \n",
              "fatalities                45   0  0.577778   1\n",
              "evacuate                  40   0  0.625000   1\n",
              "outbreak                  40   0  0.975000   1\n",
              "collided                  40   0  0.575000   1\n",
              "wreckage                  39   1  1.000000   1\n",
              "...                      ...  ..       ...  ..\n",
              "bombing                   29   0  0.931034   1\n",
              "volcano                   27   0  0.666667   1\n",
              "bush%20fires              25   0  0.720000   1\n",
              "forest%20fire             19   0  0.789474   1\n",
              "radiation%20emergency      9   0  0.555556   1\n",
              "\n",
              "[86 rows x 4 columns]"
            ]
          },
          "metadata": {
            "tags": []
          },
          "execution_count": 10
        }
      ]
    },
    {
      "cell_type": "markdown",
      "metadata": {
        "id": "nWYnWxe7Sjy0",
        "colab_type": "text"
      },
      "source": [
        "### *Análisis de Ubicación*"
      ]
    },
    {
      "cell_type": "markdown",
      "metadata": {
        "id": "u1qhPi68lw5k",
        "colab_type": "text"
      },
      "source": [
        "Continuando con el análisis, veremos a través de un Top 7 cuales son las ubicaciones que realizan más tweets, y si existe alguna relación entre la veracidad de estos tweets con las ubicaciones del ranking.  \n"
      ]
    },
    {
      "cell_type": "code",
      "metadata": {
        "id": "uFWGTs4B54OY",
        "colab_type": "code",
        "outputId": "11a2be30-a75a-439c-ad05-504b816fad14",
        "colab": {
          "base_uri": "https://localhost:8080/",
          "height": 221
        }
      },
      "source": [
        "tweets['location']"
      ],
      "execution_count": 11,
      "outputs": [
        {
          "output_type": "execute_result",
          "data": {
            "text/plain": [
              "0       NaN\n",
              "1       NaN\n",
              "2       NaN\n",
              "3       NaN\n",
              "4       NaN\n",
              "       ... \n",
              "7608    NaN\n",
              "7609    NaN\n",
              "7610    NaN\n",
              "7611    NaN\n",
              "7612    NaN\n",
              "Name: location, Length: 7613, dtype: object"
            ]
          },
          "metadata": {
            "tags": []
          },
          "execution_count": 11
        }
      ]
    },
    {
      "cell_type": "code",
      "metadata": {
        "id": "OiOae_OHqw7f",
        "colab_type": "code",
        "outputId": "1628ae45-0cfc-40df-d397-e5adf8a742bd",
        "colab": {
          "base_uri": "https://localhost:8080/",
          "height": 34
        }
      },
      "source": [
        "tweets['location'].isnull().sum()"
      ],
      "execution_count": 12,
      "outputs": [
        {
          "output_type": "execute_result",
          "data": {
            "text/plain": [
              "2533"
            ]
          },
          "metadata": {
            "tags": []
          },
          "execution_count": 12
        }
      ]
    },
    {
      "cell_type": "code",
      "metadata": {
        "id": "Ehah6jiE6v6e",
        "colab_type": "code",
        "outputId": "ad8790a5-a998-426b-9f6c-b2471f6c2194",
        "colab": {
          "base_uri": "https://localhost:8080/",
          "height": 102
        }
      },
      "source": [
        "tweets['location'].describe()"
      ],
      "execution_count": 13,
      "outputs": [
        {
          "output_type": "execute_result",
          "data": {
            "text/plain": [
              "count     5080\n",
              "unique    3341\n",
              "top        USA\n",
              "freq       104\n",
              "Name: location, dtype: object"
            ]
          },
          "metadata": {
            "tags": []
          },
          "execution_count": 13
        }
      ]
    },
    {
      "cell_type": "markdown",
      "metadata": {
        "id": "C4ZAOzSR7Mb0",
        "colab_type": "text"
      },
      "source": [
        "En este primer análisis se puede apreciar que un tercio del total de los tweets no se tiene información de su ubicación."
      ]
    },
    {
      "cell_type": "markdown",
      "metadata": {
        "id": "nlu3XGsh8qH-",
        "colab_type": "text"
      },
      "source": [
        "#### Top 7 de Ubicaciones"
      ]
    },
    {
      "cell_type": "code",
      "metadata": {
        "id": "LQ_fZy0ZStF_",
        "colab_type": "code",
        "outputId": "1f28e78a-0d89-42d5-fffe-45b6601af1b6",
        "colab": {
          "base_uri": "https://localhost:8080/",
          "height": 153
        }
      },
      "source": [
        "tweets['location'].value_counts().head(7)      # agregar grafico"
      ],
      "execution_count": 14,
      "outputs": [
        {
          "output_type": "execute_result",
          "data": {
            "text/plain": [
              "USA              104\n",
              "New York          71\n",
              "United States     50\n",
              "London            45\n",
              "Canada            29\n",
              "Nigeria           28\n",
              "UK                27\n",
              "Name: location, dtype: int64"
            ]
          },
          "metadata": {
            "tags": []
          },
          "execution_count": 14
        }
      ]
    }
  ]
}