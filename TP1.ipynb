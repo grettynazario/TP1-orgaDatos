{
  "nbformat": 4,
  "nbformat_minor": 0,
  "metadata": {
    "colab": {
      "name": "TP1.ipynb",
      "provenance": [],
      "collapsed_sections": [],
      "include_colab_link": true
    },
    "kernelspec": {
      "name": "python3",
      "display_name": "Python 3"
    }
  },
  "cells": [
    {
      "cell_type": "markdown",
      "metadata": {
        "id": "view-in-github",
        "colab_type": "text"
      },
      "source": [
        "<a href=\"https://colab.research.google.com/github/grettynazario/TP1-orgaDatos/blob/master/TP1.ipynb\" target=\"_parent\"><img src=\"https://colab.research.google.com/assets/colab-badge.svg\" alt=\"Open In Colab\"/></a>"
      ]
    },
    {
      "cell_type": "markdown",
      "metadata": {
        "id": "Pm6FEtM9LhKX",
        "colab_type": "text"
      },
      "source": [
        "# Resolución de Trabajo Práctico"
      ]
    },
    {
      "cell_type": "markdown",
      "metadata": {
        "id": "feiOmooav_PV",
        "colab_type": "text"
      },
      "source": [
        "## Instalación"
      ]
    },
    {
      "cell_type": "code",
      "metadata": {
        "id": "wSrG5eGbL1mo",
        "colab_type": "code",
        "outputId": "e95c9af2-2bbb-4036-ed3c-0b2e7afc1f54",
        "colab": {
          "base_uri": "https://localhost:8080/",
          "height": 85
        }
      },
      "source": [
        "!pip install pyspark\n",
        "!pip install -U -q PyDrive\n",
        "!apt install openjdk-8-jdk-headless -qq\n",
        "import os\n",
        "os.environ[\"JAVA_HOME\"] = \"/usr/lib/jvm/java-8-openjdk-amd64\""
      ],
      "execution_count": 241,
      "outputs": [
        {
          "output_type": "stream",
          "text": [
            "Requirement already satisfied: pyspark in /usr/local/lib/python3.6/dist-packages (2.4.5)\n",
            "Requirement already satisfied: py4j==0.10.7 in /usr/local/lib/python3.6/dist-packages (from pyspark) (0.10.7)\n",
            "openjdk-8-jdk-headless is already the newest version (8u252-b09-1~18.04).\n",
            "0 upgraded, 0 newly installed, 0 to remove and 31 not upgraded.\n"
          ],
          "name": "stdout"
        }
      ]
    },
    {
      "cell_type": "markdown",
      "metadata": {
        "id": "eLPejHavwNcQ",
        "colab_type": "text"
      },
      "source": [
        "## Comienzo de Análisis"
      ]
    },
    {
      "cell_type": "code",
      "metadata": {
        "id": "f8ahBBIaL4lA",
        "colab_type": "code",
        "colab": {}
      },
      "source": [
        "import pandas as pd\n",
        "import numpy as np\n",
        "import seaborn as sns\n",
        "import matplotlib.pyplot as plt\n",
        "%matplotlib inline"
      ],
      "execution_count": 0,
      "outputs": []
    },
    {
      "cell_type": "code",
      "metadata": {
        "id": "fnHMAA7jMisI",
        "colab_type": "code",
        "colab": {}
      },
      "source": [
        "# Load the Data and take a quick look.\n",
        "url = 'https://raw.githubusercontent.com/grettynazario/TP1-orgaDatos/master/train.csv'\n",
        "tweets = pd.read_csv(url, encoding='latin-1')\n"
      ],
      "execution_count": 0,
      "outputs": []
    },
    {
      "cell_type": "markdown",
      "metadata": {
        "id": "iYAZUOFNpI7f",
        "colab_type": "text"
      },
      "source": [
        "#Análisis del data set\n",
        "##Analizando tweets con y sin ubicación\n",
        "Vamos a identificar a través de un pie plot en qué porcentaje los tweets que encontramos en el dataset no tienen una ubicación"
      ]
    },
    {
      "cell_type": "code",
      "metadata": {
        "id": "HK_T7PfkNlc9",
        "colab_type": "code",
        "outputId": "8c16adaf-892c-49ab-fa55-2d879e9d2edd",
        "colab": {
          "base_uri": "https://localhost:8080/",
          "height": 248
        }
      },
      "source": [
        "tweets_without_loc = tweets.location.isnull().sum()\n",
        "tweets_with_loc = tweets.location.size - tweets_without_loc\n",
        "\n",
        "values = [tweets_without_loc, tweets_with_loc]\n",
        "x = ['Without location','With location']\n",
        "plt.pie(values, labels=x, autopct='%0.1f%%')\n",
        "plt.show()"
      ],
      "execution_count": 244,
      "outputs": [
        {
          "output_type": "display_data",
          "data": {
            "image/png": "[encoded data removed]",
            "text/plain": [
              "<Figure size 432x288 with 1 Axes>"
            ]
          },
          "metadata": {
            "tags": []
          }
        }
      ]
    },
    {
      "cell_type": "markdown",
      "metadata": {
        "id": "aWjbhbMyOAvX",
        "colab_type": "text"
      },
      "source": [
        "## Analizando tweets con keywords\n",
        " vamos a identificar los tweets sin una keyword."
      ]
    },
    {
      "cell_type": "code",
      "metadata": {
        "id": "MfL_Fqd7OwN4",
        "colab_type": "code",
        "outputId": "d72f52e7-8fcc-448e-8bf4-20e39cd7581e",
        "colab": {
          "base_uri": "https://localhost:8080/",
          "height": 248
        }
      },
      "source": [
        "tweets_without_keyw = tweets.keyword.isnull().sum()\n",
        "tweets_with_keyw = tweets.keyword.size - tweets_without_keyw\n",
        "\n",
        "values = [tweets_without_keyw, tweets_with_keyw]\n",
        "x = ['Without a keyword','With a keyword']\n",
        "plt.pie(values, labels=x, autopct='%0.1f%%')\n",
        "plt.show()"
      ],
      "execution_count": 245,
      "outputs": [
        {
          "output_type": "display_data",
          "data": {
            "image/png": "[encoded data removed]",
            "text/plain": [
              "<Figure size 432x288 with 1 Axes>"
            ]
          },
          "metadata": {
            "tags": []
          }
        }
      ]
    },
    {
      "cell_type": "markdown",
      "metadata": {
        "id": "C4ZAOzSR7Mb0",
        "colab_type": "text"
      },
      "source": [
        "En este primer análisis se puede apreciar que un tercio del total de los tweets no se tiene información de su ubicación. Por otra parte, la cantidad de tweets que no tienen keyword es muy pequeña en comparación con las que si tienen."
      ]
    },
    {
      "cell_type": "markdown",
      "metadata": {
        "id": "B4eFcbNnQBTO",
        "colab_type": "text"
      },
      "source": [
        "#Análisis del data set teniendo en cuenta los nulls"
      ]
    },
    {
      "cell_type": "code",
      "metadata": {
        "id": "YxAh_5POPebI",
        "colab_type": "code",
        "colab": {}
      },
      "source": [
        "#Completo los NaN correspondientes a las columnas de keyword y location \n",
        "values = {'keyword':'No keyword' , 'location':'No location'}\n",
        "tweets.fillna(value=values, inplace=True)"
      ],
      "execution_count": 0,
      "outputs": []
    },
    {
      "cell_type": "markdown",
      "metadata": {
        "id": "1SxylkoNYQlA",
        "colab_type": "text"
      },
      "source": [
        "### **Analizando tweets por Keyword**\n",
        "\n",
        "Comparamos la cantidad de veces que aparecen las keywords en el dataset en general."
      ]
    },
    {
      "cell_type": "code",
      "metadata": {
        "id": "rguoBD0rQ4yB",
        "colab_type": "code",
        "outputId": "1635d015-0712-4d65-e5cb-007326875f2f",
        "colab": {
          "base_uri": "https://localhost:8080/",
          "height": 353
        }
      },
      "source": [
        "keyword_count  = tweets['keyword'].value_counts()\n",
        "keyword_count = keyword_count[:7,]\n",
        "\n",
        "#Visualización\n",
        "plt.figure(figsize=(10,5))\n",
        "sns.barplot(keyword_count.values, keyword_count.index, alpha=0.8)\n",
        "plt.title('Top 7 Keywords in tweets')\n",
        "plt.xlabel('Number of Occurrences', fontsize=12)\n",
        "plt.ylabel('keyword', fontsize=12)\n",
        "plt.show()"
      ],
      "execution_count": 247,
      "outputs": [
        {
          "output_type": "display_data",
          "data": {
            "image/png": "[encoded data removed]",
            "text/plain": [
              "<Figure size 720x360 with 1 Axes>"
            ]
          },
          "metadata": {
            "tags": [],
            "needs_background": "light"
          }
        }
      ]
    },
    {
      "cell_type": "markdown",
      "metadata": {
        "id": "_UNbTU4bRw7x",
        "colab_type": "text"
      },
      "source": [
        "### **Analizando tweets veridicos por keywords**\n",
        "comparamos las keywords que más ocurrencias tienen y además son verdaderas según lo dice la columna target. "
      ]
    },
    {
      "cell_type": "code",
      "metadata": {
        "id": "c3ShkSl0Secy",
        "colab_type": "code",
        "outputId": "23bc703e-42fe-41f7-baa5-b2ad752327eb",
        "colab": {
          "base_uri": "https://localhost:8080/",
          "height": 353
        }
      },
      "source": [
        "real_tweets = tweets[tweets.target == 1]\n",
        "real_keyword_count  = real_tweets['keyword'].value_counts()\n",
        "real_keyword_count = real_keyword_count[:7,]\n",
        "\n",
        "#Visualización\n",
        "plt.figure(figsize=(10,5))\n",
        "sns.barplot(real_keyword_count.values, real_keyword_count.index, alpha=0.8)\n",
        "plt.title('Top 7 Keywords in real tweets')\n",
        "plt.xlabel('Number of Occurrences', fontsize=12)\n",
        "plt.ylabel('keyword', fontsize=12)\n",
        "plt.show()"
      ],
      "execution_count": 248,
      "outputs": [
        {
          "output_type": "display_data",
          "data": {
            "image/png": "[encoded data removed]",
            "text/plain": [
              "<Figure size 720x360 with 1 Axes>"
            ]
          },
          "metadata": {
            "tags": [],
            "needs_background": "light"
          }
        }
      ]
    },
    {
      "cell_type": "markdown",
      "metadata": {
        "id": "dmM7EGw0QuI-",
        "colab_type": "text"
      },
      "source": [
        "Podemos ver a través de los anteriores dos gráficos que tanto analizando la totalidad de los tweets como viendo sólo aquellos que son verdaderos, la mayoría de los tweets no tienen una keyword asociada."
      ]
    },
    {
      "cell_type": "markdown",
      "metadata": {
        "id": "R1Qr0EYhRWDg",
        "colab_type": "text"
      },
      "source": [
        "### **Analizando tweets por ubicación**\n",
        "\n",
        "Haremos un análisis similar al realizado con la columna keyword pero ahora con la ubicación de los tweets. Vamos a ver cuáles son **las 7 ubicaciones con más ocurrencia en el dataset en general**."
      ]
    },
    {
      "cell_type": "code",
      "metadata": {
        "id": "Iu-qfXGjVYAM",
        "colab_type": "code",
        "outputId": "21d2da44-1505-4f50-9a53-97cd1e8d30bf",
        "colab": {
          "base_uri": "https://localhost:8080/",
          "height": 554
        }
      },
      "source": [
        "location_count  = tweets['location'].value_counts()\n",
        "location_count = location_count[:7,]\n",
        "#Visualización\n",
        "loc_df = location_count.to_frame(name='location count')\n",
        "plot = loc_df.plot.pie(y='location count', figsize=(9,9), autopct='%0.1f%%')\n",
        "plot.set_title(\"Top 7 de ubicaciones en tweets en general\", fontsize=14)\n"
      ],
      "execution_count": 249,
      "outputs": [
        {
          "output_type": "execute_result",
          "data": {
            "text/plain": [
              "Text(0.5, 1.0, 'Top 7 de ubicaciones en tweets en general')"
            ]
          },
          "metadata": {
            "tags": []
          },
          "execution_count": 249
        },
        {
          "output_type": "display_data",
          "data": {
            "image/png": "[encoded data removed]",
            "text/plain": [
              "<Figure size 648x648 with 1 Axes>"
            ]
          },
          "metadata": {
            "tags": []
          }
        }
      ]
    },
    {
      "cell_type": "markdown",
      "metadata": {
        "id": "KSjpECrYWB1M",
        "colab_type": "text"
      },
      "source": [
        "### **Analizamos tweets veridicos por ubicación**\n",
        "\n",
        "Haremos lo mismo en el subconjunto de tweets reales. **Top 7**\n"
      ]
    },
    {
      "cell_type": "code",
      "metadata": {
        "id": "fA1iVAM1WdFo",
        "colab_type": "code",
        "outputId": "d030af87-51dc-41f6-88b5-b0584294cb45",
        "colab": {
          "base_uri": "https://localhost:8080/",
          "height": 537
        }
      },
      "source": [
        "real_location_count  = real_tweets['location'].value_counts()\n",
        "real_location_count = real_location_count[:7,]\n",
        "#Visualización\n",
        "pp = real_location_count.to_frame(name='real loc count').plot.pie(y='real loc count', figsize=(9,9), autopct='%0.1f%%')\n",
        "pp.set_title(\"Top 7 de ubicaciones en tweets reales\", fontsize=14)\n",
        "\n",
        "plt.show(plot, pp)"
      ],
      "execution_count": 250,
      "outputs": [
        {
          "output_type": "display_data",
          "data": {
            "image/png": "[encoded data removed]",
            "text/plain": [
              "<Figure size 648x648 with 1 Axes>"
            ]
          },
          "metadata": {
            "tags": []
          }
        }
      ]
    },
    {
      "cell_type": "markdown",
      "metadata": {
        "id": "SK8iRobYTcWm",
        "colab_type": "text"
      },
      "source": [
        "###¿Top 7 de ubicaciones no son mentirosos?\n",
        "A través del pie plot no se puede apreciar mucho la participación de las otras ubicaciones, entonces vamos a ver el top 7 de ubicaciones y además, ya que sabemos que estas 7 ubicaciones son las que más tweets reales tienen, queremos analizar que relación hay entre los tweets verdaderos o falsos del total provenientes de aquellas. Para esto, utilizamos una visualización de doble barra. "
      ]
    },
    {
      "cell_type": "code",
      "metadata": {
        "id": "aX6IP85u5azI",
        "colab_type": "code",
        "colab": {}
      },
      "source": [
        "#Real tweets top 7\n",
        "real_tweets_top_seven = real_location_count.to_frame().reset_index()\n",
        "real_tweets_top_seven.rename(columns= {'location':'real tweets', 'index': 'location'}, inplace = True)\n",
        "#No location deleted\n",
        "real_tweets_top_seven.drop(real_tweets_top_seven[real_tweets_top_seven['location'] == 'No location'].index, inplace = True)\n",
        "#False tweets count\n",
        "false_tweets = tweets[tweets.target == 0]\n",
        "count_false_tweets = false_tweets['location'].value_counts().to_frame().reset_index()\n",
        "count_false_tweets.rename(columns = {'location':'false tweets', 'index':'location'}, inplace = True)"
      ],
      "execution_count": 0,
      "outputs": []
    },
    {
      "cell_type": "code",
      "metadata": {
        "id": "oy6SpwTW_IBw",
        "colab_type": "code",
        "colab": {}
      },
      "source": [
        "#Merge \n",
        "top_seven_by_location = pd.merge(real_tweets_top_seven, count_false_tweets, how= 'inner', on = 'location' )\n",
        "top_seven_by_location.set_index('location', inplace = True)"
      ],
      "execution_count": 0,
      "outputs": []
    },
    {
      "cell_type": "code",
      "metadata": {
        "id": "nqH6PLTq8Uv7",
        "colab_type": "code",
        "outputId": "6625b215-7bff-46c7-8dcc-923622ff472a",
        "colab": {
          "base_uri": "https://localhost:8080/",
          "height": 587
        }
      },
      "source": [
        "#Visualización top 7 de ubicaciones:\n",
        "\n",
        "top_seven_by_location.plot(kind= 'bar',figsize=(8,8))\n",
        "plt.title('Tweets por ubicaciòn')\n",
        "plt.xlabel('Ubicación')\n",
        "plt.ylabel('Cantidad')"
      ],
      "execution_count": 253,
      "outputs": [
        {
          "output_type": "execute_result",
          "data": {
            "text/plain": [
              "Text(0, 0.5, 'Cantidad')"
            ]
          },
          "metadata": {
            "tags": []
          },
          "execution_count": 253
        },
        {
          "output_type": "display_data",
          "data": {
            "image/png": "[encoded data removed]",
            "text/plain": [
              "<Figure size 576x576 with 1 Axes>"
            ]
          },
          "metadata": {
            "tags": [],
            "needs_background": "light"
          }
        }
      ]
    },
    {
      "cell_type": "markdown",
      "metadata": {
        "id": "NTF9ay6wKcn0",
        "colab_type": "text"
      },
      "source": [
        "Se puede observar en la visualización del top 7  que USA posee la mayor cantidad de tweets catastróficos falsos y tambien la mayor cantidad de tweets catastróficos verdaderos."
      ]
    },
    {
      "cell_type": "markdown",
      "metadata": {
        "id": "2wZ4QYdjtiBn",
        "colab_type": "text"
      },
      "source": [
        "## ¿Los tweets más largos son verdaderos?\n"
      ]
    },
    {
      "cell_type": "code",
      "metadata": {
        "id": "napgAsO2u7mN",
        "colab_type": "code",
        "outputId": "cbe01f6b-5262-4581-e9cc-501cf8fb5ece",
        "colab": {
          "base_uri": "https://localhost:8080/",
          "height": 282
        }
      },
      "source": [
        "#Agrego columnas que tengan los valores del largo de los tweets y para cada uno, si es verdadero o no:\n",
        "\n",
        "tweets['tweet_length'] = tweets['text'].str.len()\n",
        "tweets['veracity'] = (tweets.target == 1)\n",
        "\n",
        "sns.set_palette(\"Set2\")\n",
        "bplot = sns.boxplot(x='veracity', y='tweet_length', data=tweets, palette=['blue','red'])\n",
        "\n",
        "bplot.set_xlabel(\"Veracidad\", fontsize=13)\n",
        "bplot.set_ylabel(\"Cantidad de caracteres\", fontsize=13)\n",
        "bplot.tick_params(labelsize=10)"
      ],
      "execution_count": 254,
      "outputs": [
        {
          "output_type": "display_data",
          "data": {
            "image/png": "[encoded data removed]",
            "text/plain": [
              "<Figure size 432x288 with 1 Axes>"
            ]
          },
          "metadata": {
            "tags": [],
            "needs_background": "light"
          }
        }
      ]
    },
    {
      "cell_type": "markdown",
      "metadata": {
        "id": "Zv9rdw5Bc1-H",
        "colab_type": "text"
      },
      "source": [
        " ## **Análisis del texto de los tweets**\n",
        "\n",
        " ### **Analizando los textos por caracteres especiales**"
      ]
    },
    {
      "cell_type": "code",
      "metadata": {
        "id": "VPQT8fMhfJda",
        "colab_type": "code",
        "colab": {}
      },
      "source": [
        "def contador_de_caracter(caracter, texto):\n",
        "  contador = 0\n",
        "  for letra in texto:\n",
        "    if(letra == caracter):\n",
        "      contador = contador + 1\n",
        "  return contador"
      ],
      "execution_count": 0,
      "outputs": []
    },
    {
      "cell_type": "markdown",
      "metadata": {
        "id": "Ao4Xr1XHv00a",
        "colab_type": "text"
      },
      "source": [
        "## **Analizamos por el caracter típico del hashtag ' # '**"
      ]
    },
    {
      "cell_type": "code",
      "metadata": {
        "id": "Oo7KRO_2gCyx",
        "colab_type": "code",
        "colab": {
          "base_uri": "https://localhost:8080/",
          "height": 204
        },
        "outputId": "ae6cb237-8d03-4d97-df60-4ba88d32a5d9"
      },
      "source": [
        "#Se crea un df con las cantidades de caracteres por cada texto\n",
        "textos = tweets.text\n",
        "caracteres = textos.apply(lambda x: contador_de_caracter('#',x))\n",
        "caracteres = caracteres.to_frame()\n",
        "caracteres.rename(columns = {'text':'caracter'}, inplace = True)\n",
        "cantidad_caracter = caracteres.caracter\n",
        "df_caracteres_texts = pd.concat([textos, cantidad_caracter], axis = 1)\n",
        "df_caracteres_texts.head(5)"
      ],
      "execution_count": 268,
      "outputs": [
        {
          "output_type": "execute_result",
          "data": {
            "text/html": [
              "<div>\n",
              "<style scoped>\n",
              "    .dataframe tbody tr th:only-of-type {\n",
              "        vertical-align: middle;\n",
              "    }\n",
              "\n",
              "    .dataframe tbody tr th {\n",
              "        vertical-align: top;\n",
              "    }\n",
              "\n",
              "    .dataframe thead th {\n",
              "        text-align: right;\n",
              "    }\n",
              "</style>\n",
              "<table border=\"1\" class=\"dataframe\">\n",
              "  <thead>\n",
              "    <tr style=\"text-align: right;\">\n",
              "      <th></th>\n",
              "      <th>text</th>\n",
              "      <th>caracter</th>\n",
              "    </tr>\n",
              "  </thead>\n",
              "  <tbody>\n",
              "    <tr>\n",
              "      <th>0</th>\n",
              "      <td>Our Deeds are the Reason of this #earthquake M...</td>\n",
              "      <td>1</td>\n",
              "    </tr>\n",
              "    <tr>\n",
              "      <th>1</th>\n",
              "      <td>Forest fire near La Ronge Sask. Canada</td>\n",
              "      <td>0</td>\n",
              "    </tr>\n",
              "    <tr>\n",
              "      <th>2</th>\n",
              "      <td>All residents asked to 'shelter in place' are ...</td>\n",
              "      <td>0</td>\n",
              "    </tr>\n",
              "    <tr>\n",
              "      <th>3</th>\n",
              "      <td>13,000 people receive #wildfires evacuation or...</td>\n",
              "      <td>1</td>\n",
              "    </tr>\n",
              "    <tr>\n",
              "      <th>4</th>\n",
              "      <td>Just got sent this photo from Ruby #Alaska as ...</td>\n",
              "      <td>2</td>\n",
              "    </tr>\n",
              "  </tbody>\n",
              "</table>\n",
              "</div>"
            ],
            "text/plain": [
              "                                                text  caracter\n",
              "0  Our Deeds are the Reason of this #earthquake M...         1\n",
              "1             Forest fire near La Ronge Sask. Canada         0\n",
              "2  All residents asked to 'shelter in place' are ...         0\n",
              "3  13,000 people receive #wildfires evacuation or...         1\n",
              "4  Just got sent this photo from Ruby #Alaska as ...         2"
            ]
          },
          "metadata": {
            "tags": []
          },
          "execution_count": 268
        }
      ]
    },
    {
      "cell_type": "code",
      "metadata": {
        "id": "PvY5h2R6giIW",
        "colab_type": "code",
        "colab": {}
      },
      "source": [
        "#df con los tweets reales\n",
        "df_caracteres_texts = pd.merge(df_caracteres_texts, tweets, how='inner')\n",
        "df_caracteres_real = df_caracteres_texts[df_caracteres_texts.target == 1]\n",
        "df_caracteres_real = df_caracteres_real.groupby('caracter').agg({'target':'count'}).reset_index()\n",
        "df_caracteres_real.rename(columns={'target':'tweets reales'}, inplace=True)"
      ],
      "execution_count": 0,
      "outputs": []
    },
    {
      "cell_type": "code",
      "metadata": {
        "id": "F9zpATSMk9b4",
        "colab_type": "code",
        "colab": {}
      },
      "source": [
        "#df con los tweets falsos\n",
        "df_caracteres_texts = pd.merge(df_caracteres_texts, tweets, how='inner')\n",
        "df_caracteres_falso = df_caracteres_texts[df_caracteres_texts.target == 0]\n",
        "df_caracteres_falso = df_caracteres_falso.groupby('caracter').agg({'target':'count'}).reset_index()\n",
        "df_caracteres_falso.rename(columns={'target':'tweets falsos'}, inplace=True)"
      ],
      "execution_count": 0,
      "outputs": []
    },
    {
      "cell_type": "code",
      "metadata": {
        "id": "eGyYnGLuuPWL",
        "colab_type": "code",
        "colab": {
          "base_uri": "https://localhost:8080/",
          "height": 452
        },
        "outputId": "be3327ce-6db3-4be8-d89f-2f0f24d7b9af"
      },
      "source": [
        "#CON ESTE HACES EL GRAFICO GUARDALO EN UN VARIABLE LINDA JAJAJ XD\n",
        "pd.merge(df_caracteres_real, df_caracteres_falso, how ='outer', on = 'caracter') "
      ],
      "execution_count": 259,
      "outputs": [
        {
          "output_type": "execute_result",
          "data": {
            "text/html": [
              "<div>\n",
              "<style scoped>\n",
              "    .dataframe tbody tr th:only-of-type {\n",
              "        vertical-align: middle;\n",
              "    }\n",
              "\n",
              "    .dataframe tbody tr th {\n",
              "        vertical-align: top;\n",
              "    }\n",
              "\n",
              "    .dataframe thead th {\n",
              "        text-align: right;\n",
              "    }\n",
              "</style>\n",
              "<table border=\"1\" class=\"dataframe\">\n",
              "  <thead>\n",
              "    <tr style=\"text-align: right;\">\n",
              "      <th></th>\n",
              "      <th>caracter</th>\n",
              "      <th>tweets reales</th>\n",
              "      <th>tweets falsos</th>\n",
              "    </tr>\n",
              "  </thead>\n",
              "  <tbody>\n",
              "    <tr>\n",
              "      <th>0</th>\n",
              "      <td>0</td>\n",
              "      <td>2600.0</td>\n",
              "      <td>3520.0</td>\n",
              "    </tr>\n",
              "    <tr>\n",
              "      <th>1</th>\n",
              "      <td>1</td>\n",
              "      <td>530.0</td>\n",
              "      <td>496.0</td>\n",
              "    </tr>\n",
              "    <tr>\n",
              "      <th>2</th>\n",
              "      <td>2</td>\n",
              "      <td>232.0</td>\n",
              "      <td>231.0</td>\n",
              "    </tr>\n",
              "    <tr>\n",
              "      <th>3</th>\n",
              "      <td>3</td>\n",
              "      <td>102.0</td>\n",
              "      <td>108.0</td>\n",
              "    </tr>\n",
              "    <tr>\n",
              "      <th>4</th>\n",
              "      <td>4</td>\n",
              "      <td>38.0</td>\n",
              "      <td>45.0</td>\n",
              "    </tr>\n",
              "    <tr>\n",
              "      <th>5</th>\n",
              "      <td>5</td>\n",
              "      <td>27.0</td>\n",
              "      <td>22.0</td>\n",
              "    </tr>\n",
              "    <tr>\n",
              "      <th>6</th>\n",
              "      <td>6</td>\n",
              "      <td>11.0</td>\n",
              "      <td>25.0</td>\n",
              "    </tr>\n",
              "    <tr>\n",
              "      <th>7</th>\n",
              "      <td>7</td>\n",
              "      <td>4.0</td>\n",
              "      <td>4.0</td>\n",
              "    </tr>\n",
              "    <tr>\n",
              "      <th>8</th>\n",
              "      <td>8</td>\n",
              "      <td>7.0</td>\n",
              "      <td>1.0</td>\n",
              "    </tr>\n",
              "    <tr>\n",
              "      <th>9</th>\n",
              "      <td>10</td>\n",
              "      <td>7.0</td>\n",
              "      <td>3.0</td>\n",
              "    </tr>\n",
              "    <tr>\n",
              "      <th>10</th>\n",
              "      <td>13</td>\n",
              "      <td>4.0</td>\n",
              "      <td>NaN</td>\n",
              "    </tr>\n",
              "    <tr>\n",
              "      <th>11</th>\n",
              "      <td>9</td>\n",
              "      <td>NaN</td>\n",
              "      <td>2.0</td>\n",
              "    </tr>\n",
              "    <tr>\n",
              "      <th>12</th>\n",
              "      <td>11</td>\n",
              "      <td>NaN</td>\n",
              "      <td>2.0</td>\n",
              "    </tr>\n",
              "  </tbody>\n",
              "</table>\n",
              "</div>"
            ],
            "text/plain": [
              "    caracter  tweets reales  tweets falsos\n",
              "0          0         2600.0         3520.0\n",
              "1          1          530.0          496.0\n",
              "2          2          232.0          231.0\n",
              "3          3          102.0          108.0\n",
              "4          4           38.0           45.0\n",
              "5          5           27.0           22.0\n",
              "6          6           11.0           25.0\n",
              "7          7            4.0            4.0\n",
              "8          8            7.0            1.0\n",
              "9         10            7.0            3.0\n",
              "10        13            4.0            NaN\n",
              "11         9            NaN            2.0\n",
              "12        11            NaN            2.0"
            ]
          },
          "metadata": {
            "tags": []
          },
          "execution_count": 259
        }
      ]
    },
    {
      "cell_type": "markdown",
      "metadata": {
        "id": "YP94LvH9xBop",
        "colab_type": "text"
      },
      "source": [
        "## **Analizamos por el caracter ' ! '**"
      ]
    },
    {
      "cell_type": "code",
      "metadata": {
        "id": "qb6uU61vucTe",
        "colab_type": "code",
        "colab": {
          "base_uri": "https://localhost:8080/",
          "height": 204
        },
        "outputId": "3b266238-dd8b-4088-b722-82e932336c0c"
      },
      "source": [
        "#Se crea un df con las cantidades de caracteres por cada texto\n",
        "textos = tweets.text\n",
        "caracteres = textos.apply(lambda x: contador_de_caracter('!',x))\n",
        "caracteres = caracteres.to_frame()\n",
        "caracteres.rename(columns = {'text':'caracter'}, inplace = True)\n",
        "cantidad_caracter = caracteres.caracter\n",
        "df_caracteres_texts = pd.concat([textos, cantidad_caracter], axis = 1)\n",
        "df_caracteres_texts.tail(5)"
      ],
      "execution_count": 270,
      "outputs": [
        {
          "output_type": "execute_result",
          "data": {
            "text/html": [
              "<div>\n",
              "<style scoped>\n",
              "    .dataframe tbody tr th:only-of-type {\n",
              "        vertical-align: middle;\n",
              "    }\n",
              "\n",
              "    .dataframe tbody tr th {\n",
              "        vertical-align: top;\n",
              "    }\n",
              "\n",
              "    .dataframe thead th {\n",
              "        text-align: right;\n",
              "    }\n",
              "</style>\n",
              "<table border=\"1\" class=\"dataframe\">\n",
              "  <thead>\n",
              "    <tr style=\"text-align: right;\">\n",
              "      <th></th>\n",
              "      <th>text</th>\n",
              "      <th>caracter</th>\n",
              "    </tr>\n",
              "  </thead>\n",
              "  <tbody>\n",
              "    <tr>\n",
              "      <th>7608</th>\n",
              "      <td>Two giant cranes holding a bridge collapse int...</td>\n",
              "      <td>0</td>\n",
              "    </tr>\n",
              "    <tr>\n",
              "      <th>7609</th>\n",
              "      <td>@aria_ahrary @TheTawniest The out of control w...</td>\n",
              "      <td>0</td>\n",
              "    </tr>\n",
              "    <tr>\n",
              "      <th>7610</th>\n",
              "      <td>M1.94 [01:04 UTC]?5km S of Volcano Hawaii. htt...</td>\n",
              "      <td>0</td>\n",
              "    </tr>\n",
              "    <tr>\n",
              "      <th>7611</th>\n",
              "      <td>Police investigating after an e-bike collided ...</td>\n",
              "      <td>0</td>\n",
              "    </tr>\n",
              "    <tr>\n",
              "      <th>7612</th>\n",
              "      <td>The Latest: More Homes Razed by Northern Calif...</td>\n",
              "      <td>0</td>\n",
              "    </tr>\n",
              "  </tbody>\n",
              "</table>\n",
              "</div>"
            ],
            "text/plain": [
              "                                                   text  caracter\n",
              "7608  Two giant cranes holding a bridge collapse int...         0\n",
              "7609  @aria_ahrary @TheTawniest The out of control w...         0\n",
              "7610  M1.94 [01:04 UTC]?5km S of Volcano Hawaii. htt...         0\n",
              "7611  Police investigating after an e-bike collided ...         0\n",
              "7612  The Latest: More Homes Razed by Northern Calif...         0"
            ]
          },
          "metadata": {
            "tags": []
          },
          "execution_count": 270
        }
      ]
    },
    {
      "cell_type": "code",
      "metadata": {
        "id": "s0kRzwXdxUJw",
        "colab_type": "code",
        "colab": {}
      },
      "source": [
        "#df con los tweets reales\n",
        "df_caracteres_texts = pd.merge(df_caracteres_texts, tweets, how='inner')\n",
        "df_caracteres_real = df_caracteres_texts[df_caracteres_texts.target == 1]\n",
        "df_caracteres_real = df_caracteres_real.groupby('caracter').agg({'target':'count'}).reset_index()\n",
        "df_caracteres_real.rename(columns={'target':'tweets reales'}, inplace=True)"
      ],
      "execution_count": 0,
      "outputs": []
    },
    {
      "cell_type": "code",
      "metadata": {
        "id": "r5o27rbDx2ik",
        "colab_type": "code",
        "colab": {}
      },
      "source": [
        "#df con los tweets falsos\n",
        "df_caracteres_texts = pd.merge(df_caracteres_texts, tweets, how='inner')\n",
        "df_caracteres_falso = df_caracteres_texts[df_caracteres_texts.target == 0]\n",
        "df_caracteres_falso = df_caracteres_falso.groupby('caracter').agg({'target':'count'}).reset_index()\n",
        "df_caracteres_falso.rename(columns={'target':'tweets falsos'}, inplace=True)"
      ],
      "execution_count": 0,
      "outputs": []
    },
    {
      "cell_type": "code",
      "metadata": {
        "id": "tngmpBVOyAIT",
        "colab_type": "code",
        "colab": {
          "base_uri": "https://localhost:8080/",
          "height": 421
        },
        "outputId": "c23b96c0-e65e-491e-e727-065730bd60e5"
      },
      "source": [
        "pd.merge(df_caracteres_real, df_caracteres_falso, how='outer', on = 'caracter') "
      ],
      "execution_count": 273,
      "outputs": [
        {
          "output_type": "execute_result",
          "data": {
            "text/html": [
              "<div>\n",
              "<style scoped>\n",
              "    .dataframe tbody tr th:only-of-type {\n",
              "        vertical-align: middle;\n",
              "    }\n",
              "\n",
              "    .dataframe tbody tr th {\n",
              "        vertical-align: top;\n",
              "    }\n",
              "\n",
              "    .dataframe thead th {\n",
              "        text-align: right;\n",
              "    }\n",
              "</style>\n",
              "<table border=\"1\" class=\"dataframe\">\n",
              "  <thead>\n",
              "    <tr style=\"text-align: right;\">\n",
              "      <th></th>\n",
              "      <th>caracter</th>\n",
              "      <th>tweets reales</th>\n",
              "      <th>tweets falsos</th>\n",
              "    </tr>\n",
              "  </thead>\n",
              "  <tbody>\n",
              "    <tr>\n",
              "      <th>0</th>\n",
              "      <td>0</td>\n",
              "      <td>3360.0</td>\n",
              "      <td>3920.0</td>\n",
              "    </tr>\n",
              "    <tr>\n",
              "      <th>1</th>\n",
              "      <td>1</td>\n",
              "      <td>135.0</td>\n",
              "      <td>353.0</td>\n",
              "    </tr>\n",
              "    <tr>\n",
              "      <th>2</th>\n",
              "      <td>2</td>\n",
              "      <td>41.0</td>\n",
              "      <td>114.0</td>\n",
              "    </tr>\n",
              "    <tr>\n",
              "      <th>3</th>\n",
              "      <td>3</td>\n",
              "      <td>11.0</td>\n",
              "      <td>41.0</td>\n",
              "    </tr>\n",
              "    <tr>\n",
              "      <th>4</th>\n",
              "      <td>4</td>\n",
              "      <td>4.0</td>\n",
              "      <td>16.0</td>\n",
              "    </tr>\n",
              "    <tr>\n",
              "      <th>5</th>\n",
              "      <td>5</td>\n",
              "      <td>5.0</td>\n",
              "      <td>5.0</td>\n",
              "    </tr>\n",
              "    <tr>\n",
              "      <th>6</th>\n",
              "      <td>6</td>\n",
              "      <td>2.0</td>\n",
              "      <td>5.0</td>\n",
              "    </tr>\n",
              "    <tr>\n",
              "      <th>7</th>\n",
              "      <td>7</td>\n",
              "      <td>1.0</td>\n",
              "      <td>2.0</td>\n",
              "    </tr>\n",
              "    <tr>\n",
              "      <th>8</th>\n",
              "      <td>8</td>\n",
              "      <td>2.0</td>\n",
              "      <td>NaN</td>\n",
              "    </tr>\n",
              "    <tr>\n",
              "      <th>9</th>\n",
              "      <td>12</td>\n",
              "      <td>1.0</td>\n",
              "      <td>NaN</td>\n",
              "    </tr>\n",
              "    <tr>\n",
              "      <th>10</th>\n",
              "      <td>10</td>\n",
              "      <td>NaN</td>\n",
              "      <td>1.0</td>\n",
              "    </tr>\n",
              "    <tr>\n",
              "      <th>11</th>\n",
              "      <td>11</td>\n",
              "      <td>NaN</td>\n",
              "      <td>2.0</td>\n",
              "    </tr>\n",
              "  </tbody>\n",
              "</table>\n",
              "</div>"
            ],
            "text/plain": [
              "    caracter  tweets reales  tweets falsos\n",
              "0          0         3360.0         3920.0\n",
              "1          1          135.0          353.0\n",
              "2          2           41.0          114.0\n",
              "3          3           11.0           41.0\n",
              "4          4            4.0           16.0\n",
              "5          5            5.0            5.0\n",
              "6          6            2.0            5.0\n",
              "7          7            1.0            2.0\n",
              "8          8            2.0            NaN\n",
              "9         12            1.0            NaN\n",
              "10        10            NaN            1.0\n",
              "11        11            NaN            2.0"
            ]
          },
          "metadata": {
            "tags": []
          },
          "execution_count": 273
        }
      ]
    }
  ]
}