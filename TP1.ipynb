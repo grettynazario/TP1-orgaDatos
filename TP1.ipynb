{
  "nbformat": 4,
  "nbformat_minor": 0,
  "metadata": {
    "colab": {
      "name": "TP1.ipynb",
      "provenance": [],
      "collapsed_sections": [],
      "include_colab_link": true
    },
    "kernelspec": {
      "name": "python3",
      "display_name": "Python 3"
    }
  },
  "cells": [
    {
      "cell_type": "markdown",
      "metadata": {
        "id": "view-in-github",
        "colab_type": "text"
      },
      "source": [
        "<a href=\"https://colab.research.google.com/github/grettynazario/TP1-orgaDatos/blob/master/TP1.ipynb\" target=\"_parent\"><img src=\"https://colab.research.google.com/assets/colab-badge.svg\" alt=\"Open In Colab\"/></a>"
      ]
    },
    {
      "cell_type": "markdown",
      "metadata": {
        "id": "pvNeywnRDqO6",
        "colab_type": "text"
      },
      "source": [
        "# 75.06/95.58 Organización de Datos\n",
        "# Primer Cuatrimestre de 2020\n",
        "# Trabajo Práctico 1: Enunciado\n"
      ]
    },
    {
      "cell_type": "markdown",
      "metadata": {
        "id": "V93xhGtJJki2",
        "colab_type": "text"
      },
      "source": [
        "El trabajo práctico 1 de la materia se basa en el análisis de los tweets del set de datos de la competencia: https://www.kaggle.com/c/nlp-getting-started.  \n",
        "\n",
        "* `id` - identificador unico para cada  tweet\n",
        "\n",
        "* `text` - el texto del tweet\n",
        "\n",
        "* `location` - ubicación desde donde fue enviado (podría no estar)\n",
        "\n",
        "* `keyword` - un keyword para el tweet  (podría faltar)\n",
        "\n",
        "* `target` - en train.csv, indica si se trata de un desastre real  (1) o no (0)\n",
        "\n",
        "\n",
        "\n"
      ]
    },
    {
      "cell_type": "markdown",
      "metadata": {
        "id": "6_H5bXYMKKRD",
        "colab_type": "text"
      },
      "source": [
        "El objetivo del primer TP es realizar un análisis exploratorio del set de datos. Queremos ver qué cosas podemos descubrir sobre los datos que puedan resultar interesantes. Estas cosas pueden estar relacionadas al objetivo del TP2 (predecir si un cierto tweet es real o no) o no, ambas son de interés."
      ]
    },
    {
      "cell_type": "markdown",
      "metadata": {
        "id": "xrBYVjlHKPqg",
        "colab_type": "text"
      },
      "source": [
        "Los requisitos de la primera entrega son los siguientes:\n",
        "\n",
        "* El análisis debe estar hecho en Python Pandas o R.\n",
        "\n",
        "* El análisis debe entregarse en formato pdf vía gradescope. En el informe no va código.\n",
        "\n",
        "* Informar el link a un repositorio Github en donde pueda bajarse el código completo para generar el análisis.\n"
      ]
    },
    {
      "cell_type": "markdown",
      "metadata": {
        "id": "GC0EYA0aKrJQ",
        "colab_type": "text"
      },
      "source": [
        "La evaluación del TP se realizará en base al siguiente criterio:\n",
        "\n",
        "* Originalidad del análisis exploratorio. \n",
        "\n",
        "* Calidad del reporte. ¿Está bien escrito? ¿Es claro y preciso? \n",
        "\n",
        "* Calidad del análisis exploratorio: qué tipo de preguntas se hacen y de qué forma se responden, ¿es la respuesta clara y concisa con respecto a la pregunta formulada? \n",
        "\n",
        "* Calidad de las visualizaciones presentadas.\n",
        " * ¿Tienen todos los ejes su rótulo?\n",
        " * ¿Tiene cada visualización un título?\n",
        " * ¿Es entendible la visualización sin tener que leer la explicación?\n",
        " * ¿El tipo de plot elegido es adecuado para lo que se quiere visualizar?\n",
        " * ¿Es una visualización interesante?\n",
        " * ¿El uso del color es adecuado?\n",
        " * ¿Hay un exceso o falta de elementos visuales en la visualización elegida?\n",
        " * ¿La visualización es consistente con los datos?\n",
        " * Conclusiones presentadas.\n",
        " * ¿Presenta el grupo un listado de \"insights\" aprendidos sobre los datos en base al análisis realizado? ¿Es interesante? \n"
      ]
    },
    {
      "cell_type": "markdown",
      "metadata": {
        "id": "Pm6FEtM9LhKX",
        "colab_type": "text"
      },
      "source": [
        "# Resolución de Trabajo Práctico"
      ]
    },
    {
      "cell_type": "markdown",
      "metadata": {
        "id": "feiOmooav_PV",
        "colab_type": "text"
      },
      "source": [
        "## Instalación"
      ]
    },
    {
      "cell_type": "code",
      "metadata": {
        "id": "wSrG5eGbL1mo",
        "colab_type": "code",
        "outputId": "96b7a43e-0d3d-4a18-b0a3-359eb0b15df9",
        "colab": {
          "base_uri": "https://localhost:8080/",
          "height": 85
        }
      },
      "source": [
        "!pip install pyspark\n",
        "!pip install -U -q PyDrive\n",
        "!apt install openjdk-8-jdk-headless -qq\n",
        "import os\n",
        "os.environ[\"JAVA_HOME\"] = \"/usr/lib/jvm/java-8-openjdk-amd64\""
      ],
      "execution_count": 6,
      "outputs": [
        {
          "output_type": "stream",
          "text": [
            "Requirement already satisfied: pyspark in /usr/local/lib/python3.6/dist-packages (2.4.5)\n",
            "Requirement already satisfied: py4j==0.10.7 in /usr/local/lib/python3.6/dist-packages (from pyspark) (0.10.7)\n",
            "openjdk-8-jdk-headless is already the newest version (8u252-b09-1~18.04).\n",
            "0 upgraded, 0 newly installed, 0 to remove and 31 not upgraded.\n"
          ],
          "name": "stdout"
        }
      ]
    },
    {
      "cell_type": "markdown",
      "metadata": {
        "id": "eLPejHavwNcQ",
        "colab_type": "text"
      },
      "source": [
        "## Comienzo de Análisis"
      ]
    },
    {
      "cell_type": "code",
      "metadata": {
        "id": "f8ahBBIaL4lA",
        "colab_type": "code",
        "colab": {}
      },
      "source": [
        "import pandas as pd\n",
        "import numpy as np\n",
        "import seaborn as sns\n",
        "import matplotlib.pyplot as plt\n",
        "%matplotlib inline"
      ],
      "execution_count": 0,
      "outputs": []
    },
    {
      "cell_type": "code",
      "metadata": {
        "id": "fnHMAA7jMisI",
        "colab_type": "code",
        "colab": {}
      },
      "source": [
        "# Load the Data and take a quick look.\n",
        "url = 'https://raw.githubusercontent.com/grettynazario/TP1-orgaDatos/master/train.csv'\n",
        "tweets = pd.read_csv(url, encoding='latin-1')\n",
        "\n",
        "#Completo los NaN correspondientes a las columnas de keyword y location \n",
        "values = {'keyword':'No keyword' , 'location':'No location'}\n",
        "tweets.fillna(value=values, inplace=True)\n"
      ],
      "execution_count": 0,
      "outputs": []
    },
    {
      "cell_type": "markdown",
      "metadata": {
        "id": "1SxylkoNYQlA",
        "colab_type": "text"
      },
      "source": [
        "### *Análisis Keyword vs. Target*\n",
        "\n",
        "Ahora, vamos a comparar la cantidad de veces que aparecen las keywords en el dataset en general y las keywords que más ocurrencias tienen y además son verdaderas según lo dice la columna target."
      ]
    },
    {
      "cell_type": "code",
      "metadata": {
        "id": "1uuoFIeKY6Tr",
        "colab_type": "code",
        "outputId": "c7bcd265-ea24-4469-cd92-4f942205b941",
        "colab": {
          "base_uri": "https://localhost:8080/",
          "height": 689
        }
      },
      "source": [
        "keyword_count  = tweets['keyword'].value_counts()\n",
        "keyword_count = keyword_count[:7,]\n",
        "\n",
        "plt.figure(figsize=(10,5))\n",
        "sns.barplot(keyword_count.values, keyword_count.index, alpha=0.8)\n",
        "plt.title('Top 7 Keywords in tweets')\n",
        "plt.xlabel('Number of Occurrences', fontsize=12)\n",
        "plt.ylabel('keyword', fontsize=12)\n",
        "plt.show()\n",
        "\n",
        "#Me quedo sólo con los tweets marcados como verdaderos\n",
        "real_tweets = tweets[tweets.target == 1]\n",
        "real_tweets.head()\n",
        "\n",
        "real_keyword_count  = real_tweets['keyword'].value_counts()\n",
        "real_keyword_count = real_keyword_count[:7,]\n",
        "\n",
        "plt.figure(figsize=(10,5))\n",
        "sns.barplot(real_keyword_count.values, real_keyword_count.index, alpha=0.8)\n",
        "plt.title('Top 7 Keywords in real tweets')\n",
        "plt.xlabel('Number of Occurrences', fontsize=12)\n",
        "plt.ylabel('keyword', fontsize=12)\n",
        "plt.show()"
      ],
      "execution_count": 9,
      "outputs": [
        {
          "output_type": "display_data",
          "data": {
            "image/png": "[encoded data removed]",
            "text/plain": [
              "<Figure size 720x360 with 1 Axes>"
            ]
          },
          "metadata": {
            "tags": [],
            "needs_background": "light"
          }
        },
        {
          "output_type": "display_data",
          "data": {
            "image/png": "[encoded data removed]",
            "text/plain": [
              "<Figure size 720x360 with 1 Axes>"
            ]
          },
          "metadata": {
            "tags": [],
            "needs_background": "light"
          }
        }
      ]
    },
    {
      "cell_type": "markdown",
      "metadata": {
        "id": "dmM7EGw0QuI-",
        "colab_type": "text"
      },
      "source": [
        "Podemos ver a través de los anteriores dos gráficos que tanto analizando la totalidad de los tweets como viendo sólo aquellos que son verdaderos, la mayoría de los tweets no tienen una keyword asociada."
      ]
    },
    {
      "cell_type": "markdown",
      "metadata": {
        "id": "R1Qr0EYhRWDg",
        "colab_type": "text"
      },
      "source": [
        "### *Análisis Location vs. Target*\n",
        "\n",
        "Haremos un análisis similar al realizado con la columna keyword pero ahora con la ubicación de los tweets. Vamos a comparar la cantidad de veces que aparecen las locations en el dataset en general y las que más ocurrencias tienen sabiendo que son verdaderas según lo dice la columna target."
      ]
    },
    {
      "cell_type": "code",
      "metadata": {
        "id": "qOwF7kBHTiOi",
        "colab_type": "code",
        "outputId": "2df3aa25-de6e-4c2c-9617-814811f1a9e3",
        "colab": {
          "base_uri": "https://localhost:8080/",
          "height": 689
        }
      },
      "source": [
        "location_count  = tweets['location'].value_counts()\n",
        "location_count = location_count[:7,]\n",
        "\n",
        "plt.figure(figsize=(10,5))\n",
        "sns.barplot(location_count.values, location_count.index, alpha=0.8)\n",
        "plt.title('Top 7 Locations in tweets')\n",
        "plt.xlabel('Number of Occurrences', fontsize=12)\n",
        "plt.ylabel('location', fontsize=12)\n",
        "plt.show()\n",
        "\n",
        "#Me quedo sólo con los tweets que son reales -> ya lo tengo más arriba jaja :P\n",
        "real_location_count  = real_tweets['location'].value_counts()\n",
        "real_location_count = real_location_count[:10,]\n",
        "\n",
        "plt.figure(figsize=(10,5))\n",
        "sns.barplot(real_location_count.values, real_location_count.index, alpha=0.8)\n",
        "plt.title('Top 7 Locations in real tweets')\n",
        "plt.xlabel('Number of Occurrences', fontsize=12)\n",
        "plt.ylabel('location', fontsize=12)\n",
        "plt.show()"
      ],
      "execution_count": 90,
      "outputs": [
        {
          "output_type": "display_data",
          "data": {
            "image/png": "[encoded data removed]",
            "text/plain": [
              "<Figure size 720x360 with 1 Axes>"
            ]
          },
          "metadata": {
            "tags": [],
            "needs_background": "light"
          }
        },
        {
          "output_type": "display_data",
          "data": {
            "image/png": "[encoded data removed]",
            "text/plain": [
              "<Figure size 720x360 with 1 Axes>"
            ]
          },
          "metadata": {
            "tags": [],
            "needs_background": "light"
          }
        }
      ]
    },
    {
      "cell_type": "markdown",
      "metadata": {
        "id": "2wZ4QYdjtiBn",
        "colab_type": "text"
      },
      "source": [
        "#### ¿Los tweets más largos son verdaderos?\n"
      ]
    },
    {
      "cell_type": "code",
      "metadata": {
        "id": "napgAsO2u7mN",
        "colab_type": "code",
        "outputId": "0b4c9d17-77ce-4824-d81e-cc99950ccf5f",
        "colab": {
          "base_uri": "https://localhost:8080/",
          "height": 282
        }
      },
      "source": [
        "#Agrego columnas que tengan los valores del largo de los tweets y para cada uno, si es verdadero o no:\n",
        "\n",
        "tweets['tweet_length'] = tweets['text'].str.len()\n",
        "tweets['veracity'] = (tweets.target == 1)\n",
        "\n",
        "myPalette = sns.set_palette(sns.color_palette(['darkmagenta', 'yellow']))\n",
        "bplot = sns.boxplot(x='veracity', y='tweet_length', data=tweets, palette=myPalette)\n",
        "\n",
        "bplot.set_xlabel(\"Veracidad\", fontsize=13)\n",
        "bplot.set_ylabel(\"Cantidad de caracteres\", fontsize=13)\n",
        "bplot.tick_params(labelsize=10)"
      ],
      "execution_count": 0,
      "outputs": [
        {
          "output_type": "display_data",
          "data": {
            "image/png": "[encoded data removed]",
            "text/plain": [
              "<Figure size 432x288 with 1 Axes>"
            ]
          },
          "metadata": {
            "tags": [],
            "needs_background": "light"
          }
        }
      ]
    },
    {
      "cell_type": "code",
      "metadata": {
        "id": "Ks26O8DiUaN1",
        "colab_type": "code",
        "outputId": "b4dc1916-ad04-4d9c-ba75-309da7b108b5",
        "colab": {
          "base_uri": "https://localhost:8080/",
          "height": 102
        }
      },
      "source": [
        "tweets['keyword'].describe()"
      ],
      "execution_count": 0,
      "outputs": [
        {
          "output_type": "execute_result",
          "data": {
            "text/plain": [
              "count           7552\n",
              "unique           221\n",
              "top       fatalities\n",
              "freq              45\n",
              "Name: keyword, dtype: object"
            ]
          },
          "metadata": {
            "tags": []
          },
          "execution_count": 7
        }
      ]
    },
    {
      "cell_type": "code",
      "metadata": {
        "id": "oTRmsDMVYpsU",
        "colab_type": "code",
        "outputId": "9c5934ae-b8ab-4c01-ee18-71ea42f2ee6f",
        "colab": {
          "base_uri": "https://localhost:8080/",
          "height": 170
        }
      },
      "source": [
        "(tweets['keyword'].value_counts()).describe()"
      ],
      "execution_count": 0,
      "outputs": [
        {
          "output_type": "execute_result",
          "data": {
            "text/plain": [
              "count    221.000000\n",
              "mean      34.171946\n",
              "std        4.786091\n",
              "min        9.000000\n",
              "25%       33.000000\n",
              "50%       35.000000\n",
              "75%       37.000000\n",
              "max       45.000000\n",
              "Name: keyword, dtype: float64"
            ]
          },
          "metadata": {
            "tags": []
          },
          "execution_count": 8
        }
      ]
    },
    {
      "cell_type": "code",
      "metadata": {
        "id": "alnJD3iyZQW4",
        "colab_type": "code",
        "colab": {}
      },
      "source": [
        "grouped = tweets.groupby(['keyword']).agg({'target':['count', 'min', 'mean', 'max']})\n",
        "grouped = grouped.reset_index()"
      ],
      "execution_count": 0,
      "outputs": []
    },
    {
      "cell_type": "code",
      "metadata": {
        "id": "OThZkH-4X8f8",
        "colab_type": "code",
        "outputId": "b9debfb5-94ff-40be-88a9-3cfb8cdb111b",
        "colab": {
          "base_uri": "https://localhost:8080/",
          "height": 450
        }
      },
      "source": [
        "grouped.loc[grouped[('target','mean')]>0.5,:].sort_values(('target','count'),ascending=False)"
      ],
      "execution_count": 21,
      "outputs": [
        {
          "output_type": "execute_result",
          "data": {
            "text/html": [
              "<div>\n",
              "<style scoped>\n",
              "    .dataframe tbody tr th:only-of-type {\n",
              "        vertical-align: middle;\n",
              "    }\n",
              "\n",
              "    .dataframe tbody tr th {\n",
              "        vertical-align: top;\n",
              "    }\n",
              "\n",
              "    .dataframe thead tr th {\n",
              "        text-align: left;\n",
              "    }\n",
              "</style>\n",
              "<table border=\"1\" class=\"dataframe\">\n",
              "  <thead>\n",
              "    <tr>\n",
              "      <th></th>\n",
              "      <th>keyword</th>\n",
              "      <th colspan=\"4\" halign=\"left\">target</th>\n",
              "    </tr>\n",
              "    <tr>\n",
              "      <th></th>\n",
              "      <th></th>\n",
              "      <th>count</th>\n",
              "      <th>min</th>\n",
              "      <th>mean</th>\n",
              "      <th>max</th>\n",
              "    </tr>\n",
              "  </thead>\n",
              "  <tbody>\n",
              "    <tr>\n",
              "      <th>0</th>\n",
              "      <td>No keyword</td>\n",
              "      <td>61</td>\n",
              "      <td>0</td>\n",
              "      <td>0.688525</td>\n",
              "      <td>1</td>\n",
              "    </tr>\n",
              "    <tr>\n",
              "      <th>105</th>\n",
              "      <td>fatalities</td>\n",
              "      <td>45</td>\n",
              "      <td>0</td>\n",
              "      <td>0.577778</td>\n",
              "      <td>1</td>\n",
              "    </tr>\n",
              "    <tr>\n",
              "      <th>50</th>\n",
              "      <td>collided</td>\n",
              "      <td>40</td>\n",
              "      <td>0</td>\n",
              "      <td>0.575000</td>\n",
              "      <td>1</td>\n",
              "    </tr>\n",
              "    <tr>\n",
              "      <th>154</th>\n",
              "      <td>outbreak</td>\n",
              "      <td>40</td>\n",
              "      <td>0</td>\n",
              "      <td>0.975000</td>\n",
              "      <td>1</td>\n",
              "    </tr>\n",
              "    <tr>\n",
              "      <th>96</th>\n",
              "      <td>evacuate</td>\n",
              "      <td>40</td>\n",
              "      <td>0</td>\n",
              "      <td>0.625000</td>\n",
              "      <td>1</td>\n",
              "    </tr>\n",
              "    <tr>\n",
              "      <th>...</th>\n",
              "      <td>...</td>\n",
              "      <td>...</td>\n",
              "      <td>...</td>\n",
              "      <td>...</td>\n",
              "      <td>...</td>\n",
              "    </tr>\n",
              "    <tr>\n",
              "      <th>33</th>\n",
              "      <td>bombing</td>\n",
              "      <td>29</td>\n",
              "      <td>0</td>\n",
              "      <td>0.931034</td>\n",
              "      <td>1</td>\n",
              "    </tr>\n",
              "    <tr>\n",
              "      <th>209</th>\n",
              "      <td>volcano</td>\n",
              "      <td>27</td>\n",
              "      <td>0</td>\n",
              "      <td>0.666667</td>\n",
              "      <td>1</td>\n",
              "    </tr>\n",
              "    <tr>\n",
              "      <th>40</th>\n",
              "      <td>bush%20fires</td>\n",
              "      <td>25</td>\n",
              "      <td>0</td>\n",
              "      <td>0.720000</td>\n",
              "      <td>1</td>\n",
              "    </tr>\n",
              "    <tr>\n",
              "      <th>116</th>\n",
              "      <td>forest%20fire</td>\n",
              "      <td>19</td>\n",
              "      <td>0</td>\n",
              "      <td>0.789474</td>\n",
              "      <td>1</td>\n",
              "    </tr>\n",
              "    <tr>\n",
              "      <th>161</th>\n",
              "      <td>radiation%20emergency</td>\n",
              "      <td>9</td>\n",
              "      <td>0</td>\n",
              "      <td>0.555556</td>\n",
              "      <td>1</td>\n",
              "    </tr>\n",
              "  </tbody>\n",
              "</table>\n",
              "<p>87 rows × 5 columns</p>\n",
              "</div>"
            ],
            "text/plain": [
              "                   keyword target                  \n",
              "                            count min      mean max\n",
              "0               No keyword     61   0  0.688525   1\n",
              "105             fatalities     45   0  0.577778   1\n",
              "50                collided     40   0  0.575000   1\n",
              "154               outbreak     40   0  0.975000   1\n",
              "96                evacuate     40   0  0.625000   1\n",
              "..                     ...    ...  ..       ...  ..\n",
              "33                 bombing     29   0  0.931034   1\n",
              "209                volcano     27   0  0.666667   1\n",
              "40            bush%20fires     25   0  0.720000   1\n",
              "116          forest%20fire     19   0  0.789474   1\n",
              "161  radiation%20emergency      9   0  0.555556   1\n",
              "\n",
              "[87 rows x 5 columns]"
            ]
          },
          "metadata": {
            "tags": []
          },
          "execution_count": 21
        }
      ]
    },
    {
      "cell_type": "markdown",
      "metadata": {
        "id": "nWYnWxe7Sjy0",
        "colab_type": "text"
      },
      "source": [
        "### *Análisis de Ubicación*"
      ]
    },
    {
      "cell_type": "markdown",
      "metadata": {
        "id": "u1qhPi68lw5k",
        "colab_type": "text"
      },
      "source": [
        "Continuando con el análisis, veremos a través de un Top 7 cuales son las ubicaciones que realizan más tweets, y si existe alguna relación entre la veracidad de estos tweets con las ubicaciones del ranking.  \n"
      ]
    },
    {
      "cell_type": "code",
      "metadata": {
        "id": "uFWGTs4B54OY",
        "colab_type": "code",
        "outputId": "11a2be30-a75a-439c-ad05-504b816fad14",
        "colab": {
          "base_uri": "https://localhost:8080/",
          "height": 221
        }
      },
      "source": [
        "tweets['location']"
      ],
      "execution_count": 0,
      "outputs": [
        {
          "output_type": "execute_result",
          "data": {
            "text/plain": [
              "0       NaN\n",
              "1       NaN\n",
              "2       NaN\n",
              "3       NaN\n",
              "4       NaN\n",
              "       ... \n",
              "7608    NaN\n",
              "7609    NaN\n",
              "7610    NaN\n",
              "7611    NaN\n",
              "7612    NaN\n",
              "Name: location, Length: 7613, dtype: object"
            ]
          },
          "metadata": {
            "tags": []
          },
          "execution_count": 11
        }
      ]
    },
    {
      "cell_type": "code",
      "metadata": {
        "id": "OiOae_OHqw7f",
        "colab_type": "code",
        "outputId": "1628ae45-0cfc-40df-d397-e5adf8a742bd",
        "colab": {
          "base_uri": "https://localhost:8080/",
          "height": 34
        }
      },
      "source": [
        "tweets['location'].isnull().sum()"
      ],
      "execution_count": 0,
      "outputs": [
        {
          "output_type": "execute_result",
          "data": {
            "text/plain": [
              "2533"
            ]
          },
          "metadata": {
            "tags": []
          },
          "execution_count": 12
        }
      ]
    },
    {
      "cell_type": "code",
      "metadata": {
        "id": "Ehah6jiE6v6e",
        "colab_type": "code",
        "outputId": "ad8790a5-a998-426b-9f6c-b2471f6c2194",
        "colab": {
          "base_uri": "https://localhost:8080/",
          "height": 102
        }
      },
      "source": [
        "tweets['location'].describe()"
      ],
      "execution_count": 0,
      "outputs": [
        {
          "output_type": "execute_result",
          "data": {
            "text/plain": [
              "count     5080\n",
              "unique    3341\n",
              "top        USA\n",
              "freq       104\n",
              "Name: location, dtype: object"
            ]
          },
          "metadata": {
            "tags": []
          },
          "execution_count": 13
        }
      ]
    },
    {
      "cell_type": "markdown",
      "metadata": {
        "id": "C4ZAOzSR7Mb0",
        "colab_type": "text"
      },
      "source": [
        "En este primer análisis se puede apreciar que un tercio del total de los tweets no se tiene información de su ubicación."
      ]
    },
    {
      "cell_type": "markdown",
      "metadata": {
        "id": "VZH6NIG2urhW",
        "colab_type": "text"
      },
      "source": [
        "# Análisis de tweets por location \n"
      ]
    },
    {
      "cell_type": "markdown",
      "metadata": {
        "id": "bdFhRGwuB1CB",
        "colab_type": "text"
      },
      "source": [
        "en este caso se ignoran los tweets sin location"
      ]
    },
    {
      "cell_type": "code",
      "metadata": {
        "id": "AB8gb4k9tMvs",
        "colab_type": "code",
        "colab": {}
      },
      "source": [
        "#real tweets count\n",
        "count_real_tweets = real_tweets['location'].value_counts().to_frame().reset_index()\n",
        "count_real_tweets = count_real_tweets.rename(columns = {'location':'real tweets', 'index':'location'})\n",
        "#False tweets count\n",
        "false_tweets = tweets[tweets.target == 0]\n",
        "count_false_tweets = false_tweets['location'].value_counts().to_frame().reset_index()\n",
        "count_false_tweets = count_false_tweets.rename(columns = {'location':'false tweets', 'index':'location'})\n",
        "#Merge\n",
        "tweets_by_locations = pd.merge(count_false_tweets,count_real_tweets, on= 'location')\n",
        "tweets_by_locations = tweets_by_locations.drop(tweets_by_locations[tweets_by_locations['location']== 'No location'].index).head(7)\n",
        "#index change\n",
        "tweets_by_locations = tweets_by_locations.set_index('location')"
      ],
      "execution_count": 0,
      "outputs": []
    },
    {
      "cell_type": "markdown",
      "metadata": {
        "id": "ImW9L8cS_TPP",
        "colab_type": "text"
      },
      "source": [
        "Visualización top 7 de ubicaciones\n"
      ]
    },
    {
      "cell_type": "code",
      "metadata": {
        "id": "nqH6PLTq8Uv7",
        "colab_type": "code",
        "colab": {
          "base_uri": "https://localhost:8080/",
          "height": 396
        },
        "outputId": "b9ebe1e2-36a7-4abc-b0f5-b30394be5aaf"
      },
      "source": [
        "tweets_by_locations.plot(kind='bar')\n",
        "plt.title('Tweets por ubicaciòn')\n",
        "plt.xlabel('Ubicación')\n",
        "plt.ylabel('Cantidad')"
      ],
      "execution_count": 182,
      "outputs": [
        {
          "output_type": "execute_result",
          "data": {
            "text/plain": [
              "Text(0, 0.5, 'Cantidad')"
            ]
          },
          "metadata": {
            "tags": []
          },
          "execution_count": 182
        },
        {
          "output_type": "display_data",
          "data": {
            "image/png": "[encoded data removed]",
            "text/plain": [
              "<Figure size 432x288 with 1 Axes>"
            ]
          },
          "metadata": {
            "tags": []
          }
        }
      ]
    },
    {
      "cell_type": "markdown",
      "metadata": {
        "id": "NTF9ay6wKcn0",
        "colab_type": "text"
      },
      "source": [
        "Se puede observar en la visualización del top 7  que NEW YORK posee la mayor cantidad de tweets catastróficos falsos mientras que USA la mayor cantidad de tweets catastróficos verdaderos."
      ]
    },
    {
      "cell_type": "code",
      "metadata": {
        "id": "6hZLzXXELSvA",
        "colab_type": "code",
        "colab": {}
      },
      "source": [
        ""
      ],
      "execution_count": 0,
      "outputs": []
    }
  ]
}